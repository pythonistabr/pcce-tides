{
 "cells": [
  {
   "cell_type": "code",
   "execution_count": 7,
   "id": "34794509",
   "metadata": {},
   "outputs": [
    {
     "name": "stdout",
     "output_type": "stream",
     "text": [
      "Once deleted, variables cannot be recovered. Proceed (y/[n])? y\n"
     ]
    }
   ],
   "source": [
    "%reset"
   ]
  },
  {
   "cell_type": "code",
   "execution_count": 1,
   "id": "49f96468",
   "metadata": {},
   "outputs": [],
   "source": [
    "#import utide"
   ]
  },
  {
   "cell_type": "code",
   "execution_count": 29,
   "id": "cdad0e98",
   "metadata": {},
   "outputs": [],
   "source": [
    "import pandas as pd\n",
    "from utide import solve, reconstruct\n",
    "import matplotlib.pyplot as plt\n",
    "import numpy as np"
   ]
  },
  {
   "cell_type": "code",
   "execution_count": 30,
   "id": "3537b9bb",
   "metadata": {},
   "outputs": [],
   "source": [
    "dfu = pd.read_csv('../data/ul-boia-completo.csv', delimiter=';')\n",
    "dfv = pd.read_csv('../data/vl-boia-completo.csv', delimiter=';')"
   ]
  },
  {
   "cell_type": "code",
   "execution_count": 31,
   "id": "a09f63c6",
   "metadata": {},
   "outputs": [],
   "source": [
    "#dfu.drop(['time'], axis=1, inplace=True)\n",
    "#dfv.drop(['time'], axis=1, inplace=True)"
   ]
  },
  {
   "cell_type": "code",
   "execution_count": 32,
   "id": "d478f6b7",
   "metadata": {},
   "outputs": [],
   "source": [
    "#dfu.to_csv('corperpendicular.txt',sep=';', index=False)\n",
    "#dfv.to_csv('corparalela.txt',sep=';', index=False)"
   ]
  },
  {
   "cell_type": "code",
   "execution_count": 33,
   "id": "ad636341",
   "metadata": {},
   "outputs": [],
   "source": [
    "u = dfu.iloc[0:3200, 1]\n",
    "v = dfv.iloc[0:3200, 1]"
   ]
  },
  {
   "cell_type": "code",
   "execution_count": 34,
   "id": "c3056a2d",
   "metadata": {},
   "outputs": [
    {
     "data": {
      "text/html": [
       "<div>\n",
       "<style scoped>\n",
       "    .dataframe tbody tr th:only-of-type {\n",
       "        vertical-align: middle;\n",
       "    }\n",
       "\n",
       "    .dataframe tbody tr th {\n",
       "        vertical-align: top;\n",
       "    }\n",
       "\n",
       "    .dataframe thead th {\n",
       "        text-align: right;\n",
       "    }\n",
       "</style>\n",
       "<table border=\"1\" class=\"dataframe\">\n",
       "  <thead>\n",
       "    <tr style=\"text-align: right;\">\n",
       "      <th></th>\n",
       "      <th>0</th>\n",
       "      <th>1</th>\n",
       "      <th>2</th>\n",
       "      <th>3</th>\n",
       "      <th>4</th>\n",
       "      <th>5</th>\n",
       "      <th>6</th>\n",
       "      <th>7</th>\n",
       "      <th>8</th>\n",
       "      <th>9</th>\n",
       "      <th>...</th>\n",
       "      <th>11</th>\n",
       "      <th>12</th>\n",
       "      <th>13</th>\n",
       "      <th>14</th>\n",
       "      <th>15</th>\n",
       "      <th>16</th>\n",
       "      <th>17</th>\n",
       "      <th>18</th>\n",
       "      <th>19</th>\n",
       "      <th>time</th>\n",
       "    </tr>\n",
       "  </thead>\n",
       "  <tbody>\n",
       "    <tr>\n",
       "      <th>0</th>\n",
       "      <td>-5.928774</td>\n",
       "      <td>-2.978601</td>\n",
       "      <td>-3.320634</td>\n",
       "      <td>-3.470345</td>\n",
       "      <td>-2.958156</td>\n",
       "      <td>-4.705866</td>\n",
       "      <td>-4.566947</td>\n",
       "      <td>-4.462758</td>\n",
       "      <td>-4.844342</td>\n",
       "      <td>-4.948923e+00</td>\n",
       "      <td>...</td>\n",
       "      <td>-5.173874</td>\n",
       "      <td>-5.409318</td>\n",
       "      <td>-5.760821</td>\n",
       "      <td>-6.081331</td>\n",
       "      <td>-6.413693</td>\n",
       "      <td>-5.555062</td>\n",
       "      <td>-8.241056</td>\n",
       "      <td>-10.291037</td>\n",
       "      <td>-11.737973</td>\n",
       "      <td>2016-11-18 20:00:00</td>\n",
       "    </tr>\n",
       "    <tr>\n",
       "      <th>1</th>\n",
       "      <td>-11.402727</td>\n",
       "      <td>-8.750596</td>\n",
       "      <td>-6.980657</td>\n",
       "      <td>-8.503150</td>\n",
       "      <td>-7.380865</td>\n",
       "      <td>-6.373020</td>\n",
       "      <td>-6.549218</td>\n",
       "      <td>-7.249262</td>\n",
       "      <td>-5.218583</td>\n",
       "      <td>-6.987684e+00</td>\n",
       "      <td>...</td>\n",
       "      <td>-7.513953</td>\n",
       "      <td>-8.413696</td>\n",
       "      <td>-6.891079</td>\n",
       "      <td>-5.694019</td>\n",
       "      <td>-7.456039</td>\n",
       "      <td>-4.235960</td>\n",
       "      <td>-3.785530</td>\n",
       "      <td>4.594848</td>\n",
       "      <td>16.173534</td>\n",
       "      <td>2016-11-18 21:00:00</td>\n",
       "    </tr>\n",
       "    <tr>\n",
       "      <th>2</th>\n",
       "      <td>0.595127</td>\n",
       "      <td>-0.638758</td>\n",
       "      <td>-1.915496</td>\n",
       "      <td>-1.245912</td>\n",
       "      <td>-1.789890</td>\n",
       "      <td>-0.588146</td>\n",
       "      <td>0.605599</td>\n",
       "      <td>-1.165643</td>\n",
       "      <td>-1.095844</td>\n",
       "      <td>3.552714e-15</td>\n",
       "      <td>...</td>\n",
       "      <td>0.000000</td>\n",
       "      <td>1.777977</td>\n",
       "      <td>0.326360</td>\n",
       "      <td>0.715440</td>\n",
       "      <td>4.220607</td>\n",
       "      <td>3.949746</td>\n",
       "      <td>5.871076</td>\n",
       "      <td>7.969069</td>\n",
       "      <td>22.089146</td>\n",
       "      <td>2016-11-18 22:00:00</td>\n",
       "    </tr>\n",
       "  </tbody>\n",
       "</table>\n",
       "<p>3 rows × 21 columns</p>\n",
       "</div>"
      ],
      "text/plain": [
       "           0         1         2         3         4         5         6   \n",
       "0  -5.928774 -2.978601 -3.320634 -3.470345 -2.958156 -4.705866 -4.566947  \\\n",
       "1 -11.402727 -8.750596 -6.980657 -8.503150 -7.380865 -6.373020 -6.549218   \n",
       "2   0.595127 -0.638758 -1.915496 -1.245912 -1.789890 -0.588146  0.605599   \n",
       "\n",
       "          7         8             9  ...        11        12        13   \n",
       "0 -4.462758 -4.844342 -4.948923e+00  ... -5.173874 -5.409318 -5.760821  \\\n",
       "1 -7.249262 -5.218583 -6.987684e+00  ... -7.513953 -8.413696 -6.891079   \n",
       "2 -1.165643 -1.095844  3.552714e-15  ...  0.000000  1.777977  0.326360   \n",
       "\n",
       "         14        15        16        17         18         19   \n",
       "0 -6.081331 -6.413693 -5.555062 -8.241056 -10.291037 -11.737973  \\\n",
       "1 -5.694019 -7.456039 -4.235960 -3.785530   4.594848  16.173534   \n",
       "2  0.715440  4.220607  3.949746  5.871076   7.969069  22.089146   \n",
       "\n",
       "                  time  \n",
       "0  2016-11-18 20:00:00  \n",
       "1  2016-11-18 21:00:00  \n",
       "2  2016-11-18 22:00:00  \n",
       "\n",
       "[3 rows x 21 columns]"
      ]
     },
     "execution_count": 34,
     "metadata": {},
     "output_type": "execute_result"
    }
   ],
   "source": [
    "dfu.head(3)"
   ]
  },
  {
   "cell_type": "code",
   "execution_count": 35,
   "id": "056231c0",
   "metadata": {},
   "outputs": [],
   "source": [
    "time = dfu.time.iloc[:3200]\n",
    "time = pd.to_datetime(time)"
   ]
  },
  {
   "cell_type": "code",
   "execution_count": 36,
   "id": "04e7e16e",
   "metadata": {},
   "outputs": [
    {
     "data": {
      "text/plain": [
       "(135, 135)"
      ]
     },
     "execution_count": 36,
     "metadata": {},
     "output_type": "execute_result"
    }
   ],
   "source": [
    "u.isna().sum(), v.isna().sum()"
   ]
  },
  {
   "cell_type": "code",
   "execution_count": 37,
   "id": "410e1e39",
   "metadata": {},
   "outputs": [],
   "source": [
    "u.interpolate(method='linear', limit=12, inplace=True)\n",
    "v.interpolate(method='linear', limit=12, inplace=True)"
   ]
  },
  {
   "cell_type": "markdown",
   "id": "4eaf640e",
   "metadata": {},
   "source": [
    "### Creataing a white noise"
   ]
  },
  {
   "cell_type": "code",
   "execution_count": 38,
   "id": "f88c4b50",
   "metadata": {},
   "outputs": [],
   "source": [
    "n = len(time) # comprimento\n",
    "amp = 0.001 # amplitude\n",
    "phase = np.pi/4 # fase em radianos\n",
    "t = 500 # horas\n",
    "t2 = 800 #\n",
    "white_noise = [amp + np.sin((i*np.pi/2)/t) for i in range(n)]\n",
    "white_noise2 = [amp + np.sin((i*np.pi/2)/t2 + phase) for i in range(n)]\n",
    "\n",
    "white_noise = np.array(white_noise)\n",
    "white_noise2 = np.array(white_noise2)"
   ]
  },
  {
   "cell_type": "code",
   "execution_count": 39,
   "id": "afa8d716",
   "metadata": {},
   "outputs": [
    {
     "data": {
      "text/plain": [
       "[<matplotlib.lines.Line2D at 0x7f7189305e50>]"
      ]
     },
     "execution_count": 39,
     "metadata": {},
     "output_type": "execute_result"
    },
    {
     "data": {
      "image/png": "[encoded data removed]",
      "text/plain": [
       "<Figure size 640x480 with 1 Axes>"
      ]
     },
     "metadata": {},
     "output_type": "display_data"
    }
   ],
   "source": [
    "plt.plot(white_noise)\n",
    "plt.plot(white_noise2)"
   ]
  },
  {
   "cell_type": "code",
   "execution_count": 40,
   "id": "c60bf524",
   "metadata": {},
   "outputs": [],
   "source": [
    "def add_noise(vector, noise) -> np.asarray:\n",
    "    from numpy import isnan\n",
    "    vector[isnan(vector)] = 0\n",
    "    vector = vector + noise\n",
    "    return vector"
   ]
  },
  {
   "cell_type": "code",
   "execution_count": 41,
   "id": "5c0fd3a9",
   "metadata": {},
   "outputs": [
    {
     "data": {
      "text/plain": [
       "(0, 0)"
      ]
     },
     "execution_count": 41,
     "metadata": {},
     "output_type": "execute_result"
    }
   ],
   "source": [
    "u, v = add_noise(u, white_noise), add_noise(v, white_noise2)\n",
    "u.isna().sum(), v.isna().sum()"
   ]
  },
  {
   "cell_type": "code",
   "execution_count": 13,
   "id": "fb7f6819",
   "metadata": {},
   "outputs": [],
   "source": [
    "# computing current as a complex vector\n",
    "c = v + u*1j"
   ]
  },
  {
   "cell_type": "code",
   "execution_count": 42,
   "id": "23e8e0df",
   "metadata": {},
   "outputs": [
    {
     "name": "stdout",
     "output_type": "stream",
     "text": [
      "solve: matrix prep ... solution ... done.\n"
     ]
    }
   ],
   "source": [
    "#from utide import solve\n",
    "coef = solve(time, v, u,\n",
    "             lat=-3,\n",
    "             nodal=False,\n",
    "             trend=False,\n",
    "             method='robust',\n",
    "             conf_int='linear',\n",
    "             Rayleigh_min=0.95,)"
   ]
  },
  {
   "cell_type": "code",
   "execution_count": 43,
   "id": "662ab222",
   "metadata": {
    "scrolled": false
   },
   "outputs": [
    {
     "data": {
      "text/plain": [
       "dict_keys(['name', 'aux', 'nR', 'nNR', 'nI', 'rf', 'weights', 'Lsmaj', 'Lsmin', 'theta', 'g', 'umean', 'vmean', 'g_ci', 'Lsmaj_ci', 'Lsmin_ci', 'theta_ci', 'diagn', 'PE', 'SNR'])"
      ]
     },
     "execution_count": 43,
     "metadata": {},
     "output_type": "execute_result"
    }
   ],
   "source": [
    "coef.keys()"
   ]
  },
  {
   "cell_type": "code",
   "execution_count": 121,
   "id": "0b9bab1d",
   "metadata": {},
   "outputs": [],
   "source": [
    "#help(coef.weights)"
   ]
  },
  {
   "cell_type": "code",
   "execution_count": 44,
   "id": "d370a5c1",
   "metadata": {},
   "outputs": [
    {
     "data": {
      "text/plain": [
       "(array([7.62812465, 2.41448817, 2.23598808, 2.09535639, 1.96723373,\n",
       "        1.69028917, 1.10087535, 1.0623413 , 0.95260941, 0.85081259,\n",
       "        0.69853357, 0.69502501, 0.61323896, 0.64480138, 0.55898839,\n",
       "        0.47505457, 0.52301226, 0.41525695, 0.46449646, 0.38521267,\n",
       "        0.4395854 , 0.3901105 , 0.39472721, 0.33832785, 0.23910471,\n",
       "        0.30150307, 0.28723221, 0.27456983, 0.26313632, 0.2530779 ,\n",
       "        0.17050666, 0.12190844, 0.12894052, 0.10118603, 0.05900626]),\n",
       " array([ 4.99821264e+00, -9.88270413e-01,  1.14333656e+00,  6.06427941e-01,\n",
       "        -8.54070480e-01, -1.78657701e-01,  1.54654598e-01,  2.14651217e-01,\n",
       "         4.35519598e-01, -5.25969361e-01,  8.60983259e-02, -1.09982374e-01,\n",
       "        -2.71434184e-01,  7.48352512e-02, -1.18780583e-01,  2.23447189e-01,\n",
       "         3.82325876e-02,  2.17838432e-01, -9.17403985e-03, -2.50205477e-01,\n",
       "         5.76513580e-02, -1.49208339e-01,  2.81350808e-02,  9.39773829e-02,\n",
       "        -2.04050915e-01,  7.57554264e-02, -7.60326804e-02,  1.13385391e-03,\n",
       "        -1.64663257e-02, -6.29838953e-02, -7.04187678e-02,  7.92397724e-02,\n",
       "         6.57699014e-02, -8.40610856e-02, -3.63694327e-02]))"
      ]
     },
     "execution_count": 44,
     "metadata": {},
     "output_type": "execute_result"
    }
   ],
   "source": [
    "coef.Lsmaj, coef.Lsmin"
   ]
  },
  {
   "cell_type": "code",
   "execution_count": 51,
   "id": "88795249",
   "metadata": {},
   "outputs": [
    {
     "data": {
      "text/plain": [
       "(34.315755254649396, 5.547051337810213)"
      ]
     },
     "execution_count": 51,
     "metadata": {},
     "output_type": "execute_result"
    }
   ],
   "source": [
    "coef.umean, coef.vmean"
   ]
  },
  {
   "cell_type": "code",
   "execution_count": 52,
   "id": "f6f07996",
   "metadata": {},
   "outputs": [
    {
     "data": {
      "text/plain": [
       "array([ 77.68345703,  54.13363029,  77.54209539,  45.37324959,\n",
       "        18.66873589, 171.96811338,   9.6700077 , 171.72397015,\n",
       "       166.70960826, 148.48840209,   4.38779911, 169.00737756,\n",
       "        12.37124455, 164.90932231, 133.13172139, 121.66862623,\n",
       "        24.73486571,   5.4493977 , 148.38479284, 104.97905078,\n",
       "        69.49578133,  10.90388   ,  41.02753053, 112.74906392,\n",
       "        61.0536169 , 158.71846719,  79.51778718, 169.27426431,\n",
       "        53.88090895,  18.2949884 ,  37.64487655,   3.60979924,\n",
       "         4.11385145, 128.7579121 , 173.90189149])"
      ]
     },
     "execution_count": 52,
     "metadata": {},
     "output_type": "execute_result"
    }
   ],
   "source": [
    "coef.theta"
   ]
  },
  {
   "cell_type": "code",
   "execution_count": 53,
   "id": "59f0e357",
   "metadata": {},
   "outputs": [
    {
     "data": {
      "text/plain": [
       "array([309.91452369, 215.12552785, 323.17926388, 290.01865159,\n",
       "       325.29960531, 163.30454093,  87.40666961, 127.66703715,\n",
       "        77.33175506, 301.36482422,  79.0418412 , 214.51891028,\n",
       "       287.99300812, 174.16984662,  13.9713955 , 230.46000267,\n",
       "       325.50208437, 225.87784897, 129.25368535, 222.00900388,\n",
       "       163.74204419,  66.64536088, 187.66533811, 115.25230814,\n",
       "       304.52151792, 189.00654173, 278.20967961, 146.04699312,\n",
       "        63.11733548, 100.52454011,  76.77425718,   0.81596403,\n",
       "       266.24169627, 341.96946202, 132.24587679])"
      ]
     },
     "execution_count": 53,
     "metadata": {},
     "output_type": "execute_result"
    }
   ],
   "source": [
    "coef.g"
   ]
  },
  {
   "cell_type": "code",
   "execution_count": 54,
   "id": "2d504218",
   "metadata": {},
   "outputs": [
    {
     "data": {
      "text/plain": [
       "array([   6.66133941,   23.36564758,   15.26839001,   14.97351478,\n",
       "         22.192705  ,   21.60003935,   32.77771734,   34.80159382,\n",
       "         47.50807127,   67.00507871,   51.65594567,   51.93335685,\n",
       "         73.09780836,   54.04621854,   53.27874925,   65.90137466,\n",
       "         62.53506866,  122.17770596,   65.69605022,  115.56051349,\n",
       "         34.65294059,  107.53407529,   69.57690509,   72.03906327,\n",
       "        558.5431042 ,  118.53237326,   48.9247559 ,  127.00689849,\n",
       "         83.38857478,  142.90717447,  211.076539  ,  506.9750505 ,\n",
       "        371.81745949, 1038.06362147,  971.13425461])"
      ]
     },
     "execution_count": 54,
     "metadata": {},
     "output_type": "execute_result"
    }
   ],
   "source": [
    "coef.g_ci"
   ]
  },
  {
   "cell_type": "code",
   "execution_count": 55,
   "id": "6ca52ed5",
   "metadata": {},
   "outputs": [],
   "source": [
    "text = coef.diagn"
   ]
  },
  {
   "cell_type": "code",
   "execution_count": 56,
   "id": "74cd5c04",
   "metadata": {},
   "outputs": [
    {
     "name": "stdout",
     "output_type": "stream",
     "text": [
      "    name         PE         SNR\n",
      "0     M2  70.681127  682.503094\n",
      "1     MM   5.784343   24.154145\n",
      "2     S2   5.359791   51.842413\n",
      "3     N2   4.043747   39.067881\n",
      "4     K1   3.908769   36.129904\n",
      "5    MSF   2.455170   10.271970\n",
      "6     O1   1.050264    9.729501\n",
      "7     L2   0.998254    9.635274\n",
      "8    MU2   0.932390    9.019011\n",
      "9    NO1   0.850282    7.852320\n",
      "10  EPS2   0.420976    4.074158\n",
      "11  ALP1   0.420801    3.896446\n",
      "12    Q1   0.382204    3.539006\n",
      "13   MO3   0.358094    3.940392\n",
      "14   2Q1   0.277536    2.568151\n",
      "15   MN4   0.234219    2.636476\n",
      "16    M3   0.233708    2.572947\n",
      "17   OO1   0.186872    1.729739\n",
      "18   MS4   0.183429    2.064707\n",
      "19   MK3   0.179308    1.976829\n",
      "20    M4   0.167043    1.878229\n",
      "21    J1   0.148253    1.369079\n",
      "22   SN4   0.133085    1.495734\n",
      "23  ETA2   0.104783    1.013511\n",
      "24  UPS1   0.083970    0.778173\n",
      "25   SK3   0.082131    0.906327\n",
      "26  2SK5   0.075026    0.854096\n",
      "27  2SM6   0.064069    0.731384\n",
      "28    S4   0.059074    0.666241\n",
      "29    M6   0.057802    0.658826\n",
      "30  2MN6   0.028921    0.329250\n",
      "31  2MK5   0.017966    0.204559\n",
      "32    M8   0.017805    0.206726\n",
      "33  2MS6   0.014706    0.167703\n",
      "34  3MK7   0.004083    0.046854\n"
     ]
    }
   ],
   "source": [
    "print(pd.DataFrame(text))"
   ]
  },
  {
   "cell_type": "code",
   "execution_count": 57,
   "id": "6338cd3e",
   "metadata": {},
   "outputs": [
    {
     "data": {
      "text/plain": [
       "dict_keys(['name', 'aux', 'nR', 'nNR', 'nI', 'rf', 'weights', 'Lsmaj', 'Lsmin', 'theta', 'g', 'umean', 'vmean', 'g_ci', 'Lsmaj_ci', 'Lsmin_ci', 'theta_ci', 'diagn', 'PE', 'SNR'])"
      ]
     },
     "execution_count": 57,
     "metadata": {},
     "output_type": "execute_result"
    }
   ],
   "source": [
    "coef.keys()"
   ]
  },
  {
   "cell_type": "code",
   "execution_count": 114,
   "id": "8fce58c6",
   "metadata": {
    "scrolled": false
   },
   "outputs": [],
   "source": [
    "#help(utide._ut_constants)"
   ]
  },
  {
   "cell_type": "code",
   "execution_count": 77,
   "id": "cef0e5a0",
   "metadata": {
    "scrolled": false
   },
   "outputs": [
    {
     "name": "stdout",
     "output_type": "stream",
     "text": [
      "Help on function solve in module utide._solve:\n",
      "\n",
      "solve(t, u, v=None, lat=None, **opts)\n",
      "    Calculate amplitude, phase, confidence intervals of tidal constituents.\n",
      "    \n",
      "    Parameters\n",
      "    ----------\n",
      "    t : array_like\n",
      "        Time in days since `epoch`, or np.datetime64 array, or pandas datetime array.\n",
      "    u : array_like\n",
      "        Sea-surface height, velocity component, etc.\n",
      "    v : {None, array_like}, optional\n",
      "        If `u` is a velocity component, `v` is the orthogonal component.\n",
      "    lat : float, required\n",
      "        Latitude in degrees.\n",
      "    epoch : {string, `datetime.date`, `datetime.datetime`}, if datenum is provided in t.\n",
      "        Default `None` if `t` is `datetime`, `np.datetime64`, or `pd.datetime array.`\n",
      "        Optional valid strings are\n",
      "            - 'python' : if `t` is days since '0000-12-31'\n",
      "            - 'matlab' : if `t` is days since '0000-00-00'\n",
      "        Or, an arbitrary date in the form 'YYYY-MM-DD'.\n",
      "    constit : {'auto', sequence}, optional\n",
      "        List of strings with standard letter abbreviations of\n",
      "        tidal constituents; or 'auto' to let the list be determined\n",
      "        based on the time span.\n",
      "    conf_int : {'linear', 'MC', 'none'}, optional\n",
      "        If not 'none' (string), calculate linearized confidence\n",
      "        intervals, or use a Monte-Carlo simulation.\n",
      "    method : {'ols', 'robust'}, optional\n",
      "        Solve with ordinary least squares, or with a robust algorithm.\n",
      "    trend : bool, optional\n",
      "        True (default) to include a linear trend in the model.\n",
      "    phase : {'Greenwich', 'linear_time', 'raw'}, optional\n",
      "        Give Greenwich-referenced phase lags, an approximation\n",
      "        using linearized times, or raw lags.\n",
      "    nodal : {True, False, 'linear_time'}, optional\n",
      "        True (default) to include nodal/satellite corrections;\n",
      "        'linear_time' to use the linearized time approximation;\n",
      "        False to omit nodal corrections.\n",
      "    \n",
      "    Returns\n",
      "    -------\n",
      "    coef : Bunch\n",
      "        Data container with all configuration and solution information:\n",
      "    \n",
      "    Other Parameters\n",
      "    ----------------\n",
      "    infer : {None, dict or Bunch}, optional; default is None.\n",
      "        If not None, the items are:\n",
      "    \n",
      "        **inferred_names** : {sequence of N strings}\n",
      "            inferred constituent names\n",
      "        **reference_names** : {sequence of N strings}\n",
      "            reference constituent names\n",
      "        **amp_ratios** : {sequence, N or 2N floats}\n",
      "            amplitude ratios (unitless)\n",
      "        **phase_offsets** : {sequence, N or 2N floats}\n",
      "            phase offsets (degrees)\n",
      "        **approximate** : {bool, optional (default is False)}\n",
      "            use approximate method\n",
      "    \n",
      "        amp_ratios and phase_offsets have length N for a scalar\n",
      "        time series, or 2N for a vector series.\n",
      "    \n",
      "    order_constit : {'PE', 'SNR', 'frequency', sequence}, optional\n",
      "        The default is 'PE' (percent energy) order, returning results ordered from\n",
      "        high energy to low.\n",
      "        The 'SNR' order is from high signal-to-noise ratio to low, and is\n",
      "        available only if `conf_int` is not 'none'. The\n",
      "        'frequency' order is from low to high frequency. Alternatively, a\n",
      "        sequence of constituent names may be supplied, typically the same list as\n",
      "        given in the *constit* option.\n",
      "    MC_n : integer, optional\n",
      "        Not yet implemented.\n",
      "    robust_kw : dict, optional\n",
      "        Keyword arguments for `robustfit`, if `method` is 'robust'.\n",
      "    Rayleigh_min : float\n",
      "        Minimum conventional Rayleigh criterion for automatic\n",
      "        constituent selection; default is 1.\n",
      "    white : bool\n",
      "        If False (default), use band-averaged spectra from the\n",
      "        residuals in the confidence limit estimates; if True,\n",
      "        assume a white background spectrum.\n",
      "    verbose : {True, False}, optional\n",
      "        True (default) turns on verbose output. False emits no messages.\n",
      "    \n",
      "    Note\n",
      "    ----\n",
      "    `utide.reconstruct` requires the calculation of confidence intervals.\n",
      "    \n",
      "    Notes\n",
      "    -----\n",
      "    \n",
      "    To be added: much additional explanation.\n",
      "    \n",
      "    There will also be more \"Other Parameters\".\n",
      "\n"
     ]
    }
   ],
   "source": [
    "help(solve)"
   ]
  },
  {
   "cell_type": "code",
   "execution_count": 58,
   "id": "5e1e262d",
   "metadata": {
    "scrolled": true
   },
   "outputs": [
    {
     "name": "stdout",
     "output_type": "stream",
     "text": [
      "Help on Bunch in module utide.utilities object:\n",
      "\n",
      "class Bunch(builtins.dict)\n",
      " |  Bunch(*args, **kwargs)\n",
      " |  \n",
      " |  A dictionary that also provides access via attributes.\n",
      " |  \n",
      " |  Additional methods update_values and update_None provide\n",
      " |  control over whether new keys are added to the dictionary\n",
      " |  when updating, and whether an attempt to add a new key is\n",
      " |  ignored or raises a KeyError.\n",
      " |  \n",
      " |  The Bunch also prints differently than a normal\n",
      " |  dictionary, using str() instead of repr() for its\n",
      " |  keys and values, and in key-sorted order.  The printing\n",
      " |  format can be customized by subclassing with a different\n",
      " |  str_ftm class attribute.  Do not assign directly to this\n",
      " |  class attribute, because that would substitute an instance\n",
      " |  attribute which would then become part of the Bunch, and\n",
      " |  would be reported as such by the keys() method.\n",
      " |  \n",
      " |  To output a string representation with\n",
      " |  a particular format, without subclassing, use the\n",
      " |  formatted() method.\n",
      " |  \n",
      " |  Method resolution order:\n",
      " |      Bunch\n",
      " |      builtins.dict\n",
      " |      builtins.object\n",
      " |  \n",
      " |  Methods defined here:\n",
      " |  \n",
      " |  __getattr__(self, name)\n",
      " |  \n",
      " |  __init__(self, *args, **kwargs)\n",
      " |      *args* can be dictionaries, bunches, or sequences of\n",
      " |      key,value tuples.  *kwargs* can be used to initialize\n",
      " |      or add key, value pairs.\n",
      " |  \n",
      " |  __setattr__(self, name, value)\n",
      " |      Implement setattr(self, name, value).\n",
      " |  \n",
      " |  __str__(self)\n",
      " |      Return str(self).\n",
      " |  \n",
      " |  formatted(self, fmt=None, types=False)\n",
      " |      Return a string with keys and/or values or types.\n",
      " |      \n",
      " |      *fmt* is a format string as used in the str.format() method.\n",
      " |      \n",
      " |      The str.format() method is called with key, value as positional\n",
      " |      arguments, and klen, vlen as kwargs.  The latter are the maxima\n",
      " |      of the string lengths for the keys and values, respectively,\n",
      " |      up to respective maxima of 20 and 40.\n",
      " |  \n",
      " |  from_pyfile(self, filename)\n",
      " |      Read in variables from a python code file.\n",
      " |  \n",
      " |  update_None(self, *args, **kw)\n",
      " |      Similar to update_values, except that an existing value\n",
      " |      will be updated only if it is None.\n",
      " |  \n",
      " |  update_values(self, *args, **kw)\n",
      " |      arguments are dictionary-like; if present, they act as\n",
      " |      additional sources of kwargs, with the actual kwargs\n",
      " |      taking precedence.\n",
      " |      \n",
      " |      One reserved optional kwarg is \"strict\".  If present and\n",
      " |      True, then any attempt to update with keys that are not\n",
      " |      already in the Bunch instance will raise a KeyError.\n",
      " |  \n",
      " |  ----------------------------------------------------------------------\n",
      " |  Readonly properties defined here:\n",
      " |  \n",
      " |  t_mpl\n",
      " |  \n",
      " |  ----------------------------------------------------------------------\n",
      " |  Data descriptors defined here:\n",
      " |  \n",
      " |  __dict__\n",
      " |      dictionary for instance variables (if defined)\n",
      " |  \n",
      " |  __weakref__\n",
      " |      list of weak references to the object (if defined)\n",
      " |  \n",
      " |  ----------------------------------------------------------------------\n",
      " |  Data and other attributes defined here:\n",
      " |  \n",
      " |  str_fmt = '{0!s:<{klen}} : {1!s:>{vlen}}\\n'\n",
      " |  \n",
      " |  ----------------------------------------------------------------------\n",
      " |  Methods inherited from builtins.dict:\n",
      " |  \n",
      " |  __contains__(self, key, /)\n",
      " |      True if the dictionary has the specified key, else False.\n",
      " |  \n",
      " |  __delitem__(self, key, /)\n",
      " |      Delete self[key].\n",
      " |  \n",
      " |  __eq__(self, value, /)\n",
      " |      Return self==value.\n",
      " |  \n",
      " |  __ge__(self, value, /)\n",
      " |      Return self>=value.\n",
      " |  \n",
      " |  __getattribute__(self, name, /)\n",
      " |      Return getattr(self, name).\n",
      " |  \n",
      " |  __getitem__(...)\n",
      " |      x.__getitem__(y) <==> x[y]\n",
      " |  \n",
      " |  __gt__(self, value, /)\n",
      " |      Return self>value.\n",
      " |  \n",
      " |  __iter__(self, /)\n",
      " |      Implement iter(self).\n",
      " |  \n",
      " |  __le__(self, value, /)\n",
      " |      Return self<=value.\n",
      " |  \n",
      " |  __len__(self, /)\n",
      " |      Return len(self).\n",
      " |  \n",
      " |  __lt__(self, value, /)\n",
      " |      Return self<value.\n",
      " |  \n",
      " |  __ne__(self, value, /)\n",
      " |      Return self!=value.\n",
      " |  \n",
      " |  __repr__(self, /)\n",
      " |      Return repr(self).\n",
      " |  \n",
      " |  __reversed__(self, /)\n",
      " |      Return a reverse iterator over the dict keys.\n",
      " |  \n",
      " |  __setitem__(self, key, value, /)\n",
      " |      Set self[key] to value.\n",
      " |  \n",
      " |  __sizeof__(...)\n",
      " |      D.__sizeof__() -> size of D in memory, in bytes\n",
      " |  \n",
      " |  clear(...)\n",
      " |      D.clear() -> None.  Remove all items from D.\n",
      " |  \n",
      " |  copy(...)\n",
      " |      D.copy() -> a shallow copy of D\n",
      " |  \n",
      " |  get(self, key, default=None, /)\n",
      " |      Return the value for key if key is in the dictionary, else default.\n",
      " |  \n",
      " |  items(...)\n",
      " |      D.items() -> a set-like object providing a view on D's items\n",
      " |  \n",
      " |  keys(...)\n",
      " |      D.keys() -> a set-like object providing a view on D's keys\n",
      " |  \n",
      " |  pop(...)\n",
      " |      D.pop(k[,d]) -> v, remove specified key and return the corresponding value.\n",
      " |      If key is not found, d is returned if given, otherwise KeyError is raised\n",
      " |  \n",
      " |  popitem(self, /)\n",
      " |      Remove and return a (key, value) pair as a 2-tuple.\n",
      " |      \n",
      " |      Pairs are returned in LIFO (last-in, first-out) order.\n",
      " |      Raises KeyError if the dict is empty.\n",
      " |  \n",
      " |  setdefault(self, key, default=None, /)\n",
      " |      Insert key with a value of default if key is not in the dictionary.\n",
      " |      \n",
      " |      Return the value for key if key is in the dictionary, else default.\n",
      " |  \n",
      " |  update(...)\n",
      " |      D.update([E, ]**F) -> None.  Update D from dict/iterable E and F.\n",
      " |      If E is present and has a .keys() method, then does:  for k in E: D[k] = E[k]\n",
      " |      If E is present and lacks a .keys() method, then does:  for k, v in E: D[k] = v\n",
      " |      In either case, this is followed by: for k in F:  D[k] = F[k]\n",
      " |  \n",
      " |  values(...)\n",
      " |      D.values() -> an object providing a view on D's values\n",
      " |  \n",
      " |  ----------------------------------------------------------------------\n",
      " |  Class methods inherited from builtins.dict:\n",
      " |  \n",
      " |  fromkeys(iterable, value=None, /) from builtins.type\n",
      " |      Create a new dictionary with keys from iterable and values set to value.\n",
      " |  \n",
      " |  ----------------------------------------------------------------------\n",
      " |  Static methods inherited from builtins.dict:\n",
      " |  \n",
      " |  __new__(*args, **kwargs) from builtins.type\n",
      " |      Create and return a new object.  See help(type) for accurate signature.\n",
      " |  \n",
      " |  ----------------------------------------------------------------------\n",
      " |  Data and other attributes inherited from builtins.dict:\n",
      " |  \n",
      " |  __hash__ = None\n",
      "\n"
     ]
    }
   ],
   "source": [
    "help(coef)"
   ]
  },
  {
   "cell_type": "code",
   "execution_count": 59,
   "id": "31efe1fa",
   "metadata": {},
   "outputs": [
    {
     "data": {
      "text/plain": [
       "dict_values([array(['M2', 'MM', 'S2', 'N2', 'K1', 'MSF', 'O1', 'L2', 'MU2', 'NO1',\n",
       "       'EPS2', 'ALP1', 'Q1', 'MO3', '2Q1', 'MN4', 'M3', 'OO1', 'MS4',\n",
       "       'MK3', 'M4', 'J1', 'SN4', 'ETA2', 'UPS1', 'SK3', '2SK5', '2SM6',\n",
       "       'S4', 'M6', '2MN6', '2MK5', 'M8', '2MS6', '3MK7'], dtype=object), {'frq': array([0.0805114 , 0.00151215, 0.08333333, 0.07899925, 0.04178075,\n",
       "       0.00282193, 0.03873065, 0.08202355, 0.07768947, 0.04026859,\n",
       "       0.07617732, 0.03439657, 0.0372185 , 0.11924206, 0.03570635,\n",
       "       0.15951065, 0.1207671 , 0.04483084, 0.16384473, 0.12229215,\n",
       "       0.1610228 , 0.0432929 , 0.16233258, 0.08507364, 0.04634299,\n",
       "       0.12511408, 0.20844741, 0.24717807, 0.16666667, 0.2415342 ,\n",
       "       0.24002205, 0.20280355, 0.3220456 , 0.24435613, 0.28331495]), 'lind': array([ 47,   4,  56,  41,  20,   5,  12,  53,  39,  15,  34,   7,  10,\n",
       "        67,   8,  78,  68,  27,  85,  71,  81,  24,  83,  60,  28,  73,\n",
       "        98, 112,  88, 105, 102,  95, 124, 109, 119]), 'reftime': 736353.4791666667, 'opt': {'twodim': True, 'equi': True, 'conf_int': True, 'cnstit': 'auto', 'notrend': True, 'prefilt': [], 'nodsatlint': 0, 'nodsatnone': True, 'gwchlint': False, 'gwchnone': False, 'infer': None, 'inferaprx': 0, 'rmin': 0.95, 'method': 'ols', 'tunrdn': 1, 'linci': True, 'white': False, 'nrlzn': 200, 'lsfrqosmp': 1, 'nodiagn': 0, 'diagnplots': 0, 'diagnminsnr': 2, 'ordercnstit': 'PE', 'runtimedisp': 'yyy', 'nodesatlint': False, 'nodesatnone': False, 'newopts': {'constit': 'auto', 'order_constit': 'PE', 'conf_int': 'linear', 'method': 'robust', 'trend': False, 'phase': 'Greenwich', 'nodal': False, 'infer': None, 'MC_n': 200, 'Rayleigh_min': 0.95, 'robust_kw': {'weight_function': 'cauchy'}, 'white': False, 'verbose': True, 'epoch': None}, 'RunTimeDisp': True, 'epoch': None}, 'lat': -3}, 0, 35, 0, {'weight_function': 'cauchy', 'tune': 2.385, 'rcond': 1, 'tol': 0.001, 'maxit': 50, 'leverage': array([0.02263875, 0.02242263, 0.02241319, ..., 0.02241319, 0.02242263,\n",
       "       0.02263875]), 'ols_b': array([-2.79797394e-01+1.85834896e-01j,  8.47287827e-01-7.74133298e-02j,\n",
       "        2.04402586e-01-1.77011620e-01j, -9.36182957e-02+1.63171484e-01j,\n",
       "       -1.20685425e-01+7.55737036e-02j, -1.63689854e-01-6.34436642e-01j,\n",
       "        1.06514171e-02-3.05177738e-01j,  5.10574060e-01+3.62939762e-01j,\n",
       "       -1.14422245e-02-3.65206301e-02j, -2.79660787e-01+2.35901396e-01j,\n",
       "       -3.03173295e-01+1.35600755e-01j,  1.36452300e-02-2.28394717e-01j,\n",
       "       -2.03870752e-01+6.14743547e-01j, -6.88171243e-01+1.33746481e+00j,\n",
       "       -4.05573211e+00+5.18376233e+00j,  4.54870584e-01+3.80537214e-01j,\n",
       "       -5.39412379e-01+1.68428086e+00j,  1.27246565e-01+9.04249048e-02j,\n",
       "        3.94927496e-01-3.60264906e-02j,  6.48950998e-02+2.53791863e-01j,\n",
       "       -1.92035062e-01-5.45593923e-02j,  1.00398095e-01-2.28684623e-02j,\n",
       "       -3.20557677e-02-3.44424428e-01j, -4.49291056e-02-2.49039893e-01j,\n",
       "       -1.68354388e-01-1.73888920e-01j,  1.41764089e-01+5.65297922e-02j,\n",
       "        1.07503662e-01-1.19019014e-01j,  4.20861919e-02+9.99260265e-03j,\n",
       "       -9.22716842e-02-4.86959577e-02j, -4.02848385e-02-2.22914946e-02j,\n",
       "       -6.30803163e-02-1.48052949e-03j,  2.87090204e-02+6.38895741e-02j,\n",
       "        1.04978770e-01+4.51384342e-02j,  1.40770134e-02+3.97681813e-02j,\n",
       "       -4.56752068e-02+3.66469125e-02j,  5.79770127e-01-2.36460894e+00j,\n",
       "        9.73697272e-01-3.12731394e-01j,  5.55267782e-01+2.24865451e-01j,\n",
       "       -2.12998760e-01+3.21134776e-01j,  6.99750202e-02-3.74800915e-01j,\n",
       "       -3.88477106e-01+4.08714710e-01j,  4.90617201e-02+7.84226421e-01j,\n",
       "        1.44079672e+00-1.04048633e-01j,  1.05539683e-01+2.35834790e-01j,\n",
       "       -1.38692245e-01-5.99460831e-04j, -4.55031988e-02-1.82980422e-01j,\n",
       "       -9.03093703e-02+3.63596851e-01j, -2.06212559e-01-1.52059399e-01j,\n",
       "        5.91823255e-01-3.65215829e-01j,  1.12196954e+00+3.35711751e-01j,\n",
       "        3.59814372e-01-1.08582026e-01j,  6.31223346e-01+2.85638827e-01j,\n",
       "       -9.41456901e-02-9.35911757e-02j,  2.35366060e-01+3.63808692e-02j,\n",
       "        2.57859764e-01-4.19678051e-02j,  1.16519495e-01-1.41113450e-01j,\n",
       "       -8.42972819e-02-5.33606580e-03j,  1.46814869e-01+5.83145236e-02j,\n",
       "       -1.25381614e-01-2.25222643e-01j, -6.55509097e-02-1.07929437e-01j,\n",
       "        5.41671515e-02-2.00742644e-01j, -1.69709988e-01+1.38448347e-01j,\n",
       "       -3.50453775e-02+1.35506145e-02j,  2.10326589e-01+4.37139476e-02j,\n",
       "       -4.43543782e-02+4.94865020e-02j, -1.09900637e-01+2.80611405e-02j,\n",
       "        5.75812954e-02+2.18256350e-02j,  7.46643670e-02-9.42311839e-02j,\n",
       "        5.99371139e-02-2.88418894e-02j, -5.39046440e-02+4.31022079e-02j,\n",
       "        3.66899694e+01+5.59887977e+00j]), 'ols_rms_resid': 15.307066544668471, 'iterations': 5, 'b': array([-6.74224851e-01-2.32260888e-01j,  7.47191767e-01+1.13850281e-01j,\n",
       "        2.04988900e-01-2.08682225e-01j, -1.07246747e-01+1.92207863e-01j,\n",
       "        1.67417563e-02+1.70080394e-01j,  1.33340520e-01-6.13440437e-01j,\n",
       "       -1.44559341e-01-7.40498336e-02j,  3.32088505e-01+4.46654601e-01j,\n",
       "        6.78052637e-02-9.95535464e-02j, -2.40961289e-01+2.05280539e-01j,\n",
       "       -7.82925042e-03+1.56810407e-02j,  1.03825102e-01-3.78328100e-01j,\n",
       "        7.53635824e-03+6.94023588e-01j, -5.78477940e-01+1.22076735e+00j,\n",
       "       -3.86668025e+00+4.99047916e+00j,  4.58854817e-01+4.43992940e-01j,\n",
       "       -6.97008636e-01+1.53920035e+00j,  2.15946355e-01-9.44067216e-03j,\n",
       "        3.55128741e-01-5.79033518e-02j,  1.43552774e-01+2.41125579e-01j,\n",
       "       -3.06774317e-02-6.01301178e-02j,  1.62881457e-01-9.51347660e-02j,\n",
       "       -1.12501816e-01-3.30635025e-01j, -1.84085609e-02-2.47935923e-01j,\n",
       "       -1.76589602e-01-1.16272273e-01j,  2.15087734e-01+7.46116106e-02j,\n",
       "        1.21735889e-01-1.97963453e-02j,  1.00454563e-01+4.90221349e-03j,\n",
       "       -1.00029974e-01+3.38425026e-02j,  3.88202351e-02-3.15814168e-02j,\n",
       "        1.28507875e-02-9.41742539e-02j, -7.16382435e-03+4.68993808e-03j,\n",
       "        1.26678638e-01+5.43659198e-02j,  8.45653862e-03+7.52286355e-03j,\n",
       "       -1.33340770e-02+9.64377480e-02j, -2.19984417e-02-1.70123707e+00j,\n",
       "        8.48790292e-01-3.90890828e-01j,  3.69046387e-01+1.60667311e-01j,\n",
       "       -2.84544158e-01+1.84057915e-01j,  2.23599163e-01-3.81660921e-01j,\n",
       "       -5.82860300e-02+4.69506302e-01j,  1.76343838e-03+6.88388718e-01j,\n",
       "        1.35579078e+00-3.89577619e-01j,  5.81387027e-02+2.63317476e-01j,\n",
       "       -6.16806001e-02-7.70650498e-02j,  2.20529675e-01+2.15265023e-02j,\n",
       "        3.50384133e-02+3.04206413e-01j, -1.13170838e-01-2.32460385e-01j,\n",
       "        6.76849944e-01-3.10001835e-01j,  1.16534019e+00+6.09172835e-01j,\n",
       "        2.08009164e-01-3.69292307e-01j,  4.14055480e-01+3.56412537e-01j,\n",
       "       -8.17490151e-02-9.07958517e-02j,  2.66195475e-01-1.01761076e-01j,\n",
       "        2.38879415e-01-4.11030075e-02j,  2.66417169e-01-1.73092312e-01j,\n",
       "        1.10293352e-01-2.39974142e-02j,  1.24618373e-01-1.72287657e-02j,\n",
       "       -1.14292775e-01-1.52988770e-01j, -1.20992846e-01-1.37688700e-01j,\n",
       "        3.14806225e-02-2.34733690e-01j, -6.34646565e-02+1.24565837e-01j,\n",
       "        2.12707189e-02+1.64631404e-03j,  1.81489596e-01-7.20223295e-03j,\n",
       "       -4.98003130e-02+1.09686801e-01j, -7.61791619e-02+1.38457575e-01j,\n",
       "       -3.27814891e-02+8.66285004e-02j,  9.72147468e-02-9.61306478e-02j,\n",
       "        2.81296205e-02-3.85078600e-02j,  1.96000689e-04-3.15847001e-02j,\n",
       "        3.43157553e+01+5.54705134e+00j]), 's': array([53.4775723 , 53.05913834, 52.99270239, 52.95769814, 52.70169684,\n",
       "       52.55668071, 52.44434894, 52.35956438, 52.16707315, 52.08635062,\n",
       "       51.98282211, 51.93628525, 51.79537955, 51.63806794, 51.56619827,\n",
       "       51.52494206, 51.4973143 , 51.38778936, 51.31476336, 51.29813372,\n",
       "       51.19396662, 51.08238783, 51.03579966, 50.86526255, 50.78593251,\n",
       "       50.67460805, 50.63135884, 50.55552234, 50.43558364, 50.34871852,\n",
       "       50.26132039, 50.19952563, 50.13260873, 50.04910688, 49.99939609,\n",
       "       49.95813904, 49.9471657 , 49.85572054, 49.72988824, 49.66609158,\n",
       "       49.61131073, 49.58170532, 49.48920368, 49.42653841, 49.3945858 ,\n",
       "       49.28609001, 49.26162731, 49.21006598, 49.15976085, 48.97620913,\n",
       "       48.83676283, 48.77874011, 48.63764377, 48.46365312, 48.35406189,\n",
       "       48.27515893, 48.17310639, 48.12461293, 47.93826633, 47.75981483,\n",
       "       47.67998055, 47.38002888, 47.25638525, 47.07000132, 46.93072757,\n",
       "       46.6752555 , 46.50244281, 46.26520296, 45.84615077, 45.10654963,\n",
       "       44.25792297]), 'w': array([0.87486068, 0.92952411, 0.979526  , ..., 0.57913764, 0.75831725,\n",
       "       0.75312909]), 'rank': 71, 'rms_resid': 15.565686820550699}, array([0.87486068, 0.92952411, 0.979526  , ..., 0.57913764, 0.75831725,\n",
       "       0.75312909]), array([7.62812465, 2.41448817, 2.23598808, 2.09535639, 1.96723373,\n",
       "       1.69028917, 1.10087535, 1.0623413 , 0.95260941, 0.85081259,\n",
       "       0.69853357, 0.69502501, 0.61323896, 0.64480138, 0.55898839,\n",
       "       0.47505457, 0.52301226, 0.41525695, 0.46449646, 0.38521267,\n",
       "       0.4395854 , 0.3901105 , 0.39472721, 0.33832785, 0.23910471,\n",
       "       0.30150307, 0.28723221, 0.27456983, 0.26313632, 0.2530779 ,\n",
       "       0.17050666, 0.12190844, 0.12894052, 0.10118603, 0.05900626]), array([ 4.99821264e+00, -9.88270413e-01,  1.14333656e+00,  6.06427941e-01,\n",
       "       -8.54070480e-01, -1.78657701e-01,  1.54654598e-01,  2.14651217e-01,\n",
       "        4.35519598e-01, -5.25969361e-01,  8.60983259e-02, -1.09982374e-01,\n",
       "       -2.71434184e-01,  7.48352512e-02, -1.18780583e-01,  2.23447189e-01,\n",
       "        3.82325876e-02,  2.17838432e-01, -9.17403985e-03, -2.50205477e-01,\n",
       "        5.76513580e-02, -1.49208339e-01,  2.81350808e-02,  9.39773829e-02,\n",
       "       -2.04050915e-01,  7.57554264e-02, -7.60326804e-02,  1.13385391e-03,\n",
       "       -1.64663257e-02, -6.29838953e-02, -7.04187678e-02,  7.92397724e-02,\n",
       "        6.57699014e-02, -8.40610856e-02, -3.63694327e-02]), array([ 77.68345703,  54.13363029,  77.54209539,  45.37324959,\n",
       "        18.66873589, 171.96811338,   9.6700077 , 171.72397015,\n",
       "       166.70960826, 148.48840209,   4.38779911, 169.00737756,\n",
       "        12.37124455, 164.90932231, 133.13172139, 121.66862623,\n",
       "        24.73486571,   5.4493977 , 148.38479284, 104.97905078,\n",
       "        69.49578133,  10.90388   ,  41.02753053, 112.74906392,\n",
       "        61.0536169 , 158.71846719,  79.51778718, 169.27426431,\n",
       "        53.88090895,  18.2949884 ,  37.64487655,   3.60979924,\n",
       "         4.11385145, 128.7579121 , 173.90189149]), array([309.91452369, 215.12552785, 323.17926388, 290.01865159,\n",
       "       325.29960531, 163.30454093,  87.40666961, 127.66703715,\n",
       "        77.33175506, 301.36482422,  79.0418412 , 214.51891028,\n",
       "       287.99300812, 174.16984662,  13.9713955 , 230.46000267,\n",
       "       325.50208437, 225.87784897, 129.25368535, 222.00900388,\n",
       "       163.74204419,  66.64536088, 187.66533811, 115.25230814,\n",
       "       304.52151792, 189.00654173, 278.20967961, 146.04699312,\n",
       "        63.11733548, 100.52454011,  76.77425718,   0.81596403,\n",
       "       266.24169627, 341.96946202, 132.24587679]), 34.315755254649396, 5.547051337810213, array([   6.66133941,   23.36564758,   15.26839001,   14.97351478,\n",
       "         22.192705  ,   21.60003935,   32.77771734,   34.80159382,\n",
       "         47.50807127,   67.00507871,   51.65594567,   51.93335685,\n",
       "         73.09780836,   54.04621854,   53.27874925,   65.90137466,\n",
       "         62.53506866,  122.17770596,   65.69605022,  115.56051349,\n",
       "         34.65294059,  107.53407529,   69.57690509,   72.03906327,\n",
       "        558.5431042 ,  118.53237326,   48.9247559 ,  127.00689849,\n",
       "         83.38857478,  142.90717447,  211.076539  ,  506.9750505 ,\n",
       "        371.81745949, 1038.06362147,  971.13425461]), array([0.31057615, 0.76936958, 0.31094695, 0.48164106, 0.59733581,\n",
       "       0.62562532, 0.61368532, 0.61594693, 0.6070435 , 0.55630789,\n",
       "       0.61852353, 0.61237256, 0.60995522, 0.60047201, 0.48503933,\n",
       "       0.34419142, 0.56724189, 0.61868967, 0.53238412, 0.22349318,\n",
       "       0.24979605, 0.61383641, 0.47589149, 0.35736766, 0.41116189,\n",
       "       0.58001864, 0.16129478, 0.6084721 , 0.38037018, 0.58914644,\n",
       "       0.49569203, 0.6178643 , 0.61741468, 0.39758515, 0.6155476 ]), array([0.60965822, 0.70042879, 0.60881836, 0.4857053 , 0.36364421,\n",
       "       0.83008712, 0.33369397, 0.29823146, 0.31435649, 0.42427586,\n",
       "       0.2907144 , 0.3364312 , 0.34080343, 0.22413858, 0.5032403 ,\n",
       "       0.5320865 , 0.29805589, 0.32493668, 0.34374678, 0.60006145,\n",
       "       0.58277796, 0.33571576, 0.41921005, 0.58278111, 0.56456174,\n",
       "       0.27058073, 0.60915489, 0.16046004, 0.50609265, 0.22249238,\n",
       "       0.38904756, 0.12354123, 0.09021902, 0.48819252, 0.12257048]), array([   8.4616573 ,   21.9601254 ,   21.82905166,   15.08083786,\n",
       "         16.01201205,   28.62286173,   18.24965503,   18.17049198,\n",
       "         31.87470345,   59.61821894,   25.00933892,   29.62882998,\n",
       "         50.51180999,   21.17240815,   55.18869524,   86.12573939,\n",
       "         33.13881697,   87.43718994,   42.44127123,  158.80555977,\n",
       "         77.39213897,   70.60562329,   61.35064499,  108.42279177,\n",
       "        586.20072539,   62.32105802,  130.93874007,   33.47997514,\n",
       "        110.82780014,   64.29827472,  178.13717591,  341.90305925,\n",
       "        196.74289098, 1077.17247124,  624.33225326]), {'name': array(['M2', 'MM', 'S2', 'N2', 'K1', 'MSF', 'O1', 'L2', 'MU2', 'NO1',\n",
       "       'EPS2', 'ALP1', 'Q1', 'MO3', '2Q1', 'MN4', 'M3', 'OO1', 'MS4',\n",
       "       'MK3', 'M4', 'J1', 'SN4', 'ETA2', 'UPS1', 'SK3', '2SK5', '2SM6',\n",
       "       'S4', 'M6', '2MN6', '2MK5', 'M8', '2MS6', '3MK7'], dtype=object), 'PE': array([7.06811267e+01, 5.78434347e+00, 5.35979112e+00, 4.04374698e+00,\n",
       "       3.90876913e+00, 2.45516985e+00, 1.05026394e+00, 9.98253698e-01,\n",
       "       9.32389640e-01, 8.50281835e-01, 4.20976006e-01, 4.20800780e-01,\n",
       "       3.82203536e-01, 3.58094225e-01, 2.77536418e-01, 2.34219186e-01,\n",
       "       2.33707633e-01, 1.86871842e-01, 1.83429331e-01, 1.79308026e-01,\n",
       "       1.67042709e-01, 1.48253138e-01, 1.33085134e-01, 1.04782514e-01,\n",
       "       8.39703569e-02, 8.21305872e-02, 7.50262456e-02, 6.40689541e-02,\n",
       "       5.90736129e-02, 5.78018611e-02, 2.89210089e-02, 1.79660292e-02,\n",
       "       1.78051788e-02, 1.47062904e-02, 4.08301058e-03]), 'SNR': array([6.82503094e+02, 2.41541449e+01, 5.18424131e+01, 3.90678805e+01,\n",
       "       3.61299037e+01, 1.02719701e+01, 9.72950144e+00, 9.63527406e+00,\n",
       "       9.01901135e+00, 7.85231986e+00, 4.07415768e+00, 3.89644604e+00,\n",
       "       3.53900586e+00, 3.94039193e+00, 2.56815100e+00, 2.63647619e+00,\n",
       "       2.57294670e+00, 1.72973933e+00, 2.06470665e+00, 1.97682903e+00,\n",
       "       1.87822896e+00, 1.36907916e+00, 1.49573436e+00, 1.01351068e+00,\n",
       "       7.78172615e-01, 9.06326821e-01, 8.54095692e-01, 7.31384335e-01,\n",
       "       6.66240736e-01, 6.58825838e-01, 3.29249751e-01, 2.04559028e-01,\n",
       "       2.06725698e-01, 1.67702906e-01, 4.68540799e-02])}, array([7.06811267e+01, 5.78434347e+00, 5.35979112e+00, 4.04374698e+00,\n",
       "       3.90876913e+00, 2.45516985e+00, 1.05026394e+00, 9.98253698e-01,\n",
       "       9.32389640e-01, 8.50281835e-01, 4.20976006e-01, 4.20800780e-01,\n",
       "       3.82203536e-01, 3.58094225e-01, 2.77536418e-01, 2.34219186e-01,\n",
       "       2.33707633e-01, 1.86871842e-01, 1.83429331e-01, 1.79308026e-01,\n",
       "       1.67042709e-01, 1.48253138e-01, 1.33085134e-01, 1.04782514e-01,\n",
       "       8.39703569e-02, 8.21305872e-02, 7.50262456e-02, 6.40689541e-02,\n",
       "       5.90736129e-02, 5.78018611e-02, 2.89210089e-02, 1.79660292e-02,\n",
       "       1.78051788e-02, 1.47062904e-02, 4.08301058e-03]), array([6.82503094e+02, 2.41541449e+01, 5.18424131e+01, 3.90678805e+01,\n",
       "       3.61299037e+01, 1.02719701e+01, 9.72950144e+00, 9.63527406e+00,\n",
       "       9.01901135e+00, 7.85231986e+00, 4.07415768e+00, 3.89644604e+00,\n",
       "       3.53900586e+00, 3.94039193e+00, 2.56815100e+00, 2.63647619e+00,\n",
       "       2.57294670e+00, 1.72973933e+00, 2.06470665e+00, 1.97682903e+00,\n",
       "       1.87822896e+00, 1.36907916e+00, 1.49573436e+00, 1.01351068e+00,\n",
       "       7.78172615e-01, 9.06326821e-01, 8.54095692e-01, 7.31384335e-01,\n",
       "       6.66240736e-01, 6.58825838e-01, 3.29249751e-01, 2.04559028e-01,\n",
       "       2.06725698e-01, 1.67702906e-01, 4.68540799e-02])])"
      ]
     },
     "execution_count": 59,
     "metadata": {},
     "output_type": "execute_result"
    }
   ],
   "source": [
    "coef.values()"
   ]
  }
 ],
 "metadata": {
  "kernelspec": {
   "display_name": "Python 3 (ipykernel)",
   "language": "python",
   "name": "python3"
  },
  "language_info": {
   "codemirror_mode": {
    "name": "ipython",
    "version": 3
   },
   "file_extension": ".py",
   "mimetype": "text/x-python",
   "name": "python",
   "nbconvert_exporter": "python",
   "pygments_lexer": "ipython3",
   "version": "3.8.10"
  }
 },
 "nbformat": 4,
 "nbformat_minor": 5
}
