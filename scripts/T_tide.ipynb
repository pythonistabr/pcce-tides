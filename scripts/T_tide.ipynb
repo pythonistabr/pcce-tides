{
 "cells": [
  {
   "cell_type": "code",
   "execution_count": 78,
   "id": "34794509",
   "metadata": {},
   "outputs": [
    {
     "name": "stdout",
     "output_type": "stream",
     "text": [
      "Once deleted, variables cannot be recovered. Proceed (y/[n])? y\n"
     ]
    }
   ],
   "source": [
    "%reset"
   ]
  },
  {
   "cell_type": "code",
   "execution_count": 109,
   "id": "49f96468",
   "metadata": {},
   "outputs": [],
   "source": [
    "import utide"
   ]
  },
  {
   "cell_type": "code",
   "execution_count": 79,
   "id": "cdad0e98",
   "metadata": {},
   "outputs": [],
   "source": [
    "import pandas as pd\n",
    "from utide import solve, reconstruct\n",
    "import matplotlib.pyplot as plt\n",
    "import numpy as np"
   ]
  },
  {
   "cell_type": "code",
   "execution_count": 80,
   "id": "3537b9bb",
   "metadata": {},
   "outputs": [],
   "source": [
    "dfu = pd.read_csv('../data/ul-boia-completo.csv', delimiter=';')\n",
    "dfv = pd.read_csv('../data/ul-boia-completo.csv', delimiter=';')"
   ]
  },
  {
   "cell_type": "code",
   "execution_count": 81,
   "id": "ad636341",
   "metadata": {},
   "outputs": [],
   "source": [
    "u = dfu.iloc[0:3500, 1]\n",
    "v = dfv.iloc[0:3500, 1]"
   ]
  },
  {
   "cell_type": "code",
   "execution_count": 82,
   "id": "c3056a2d",
   "metadata": {},
   "outputs": [
    {
     "data": {
      "text/html": [
       "<div>\n",
       "<style scoped>\n",
       "    .dataframe tbody tr th:only-of-type {\n",
       "        vertical-align: middle;\n",
       "    }\n",
       "\n",
       "    .dataframe tbody tr th {\n",
       "        vertical-align: top;\n",
       "    }\n",
       "\n",
       "    .dataframe thead th {\n",
       "        text-align: right;\n",
       "    }\n",
       "</style>\n",
       "<table border=\"1\" class=\"dataframe\">\n",
       "  <thead>\n",
       "    <tr style=\"text-align: right;\">\n",
       "      <th></th>\n",
       "      <th>0</th>\n",
       "      <th>1</th>\n",
       "      <th>2</th>\n",
       "      <th>3</th>\n",
       "      <th>4</th>\n",
       "      <th>5</th>\n",
       "      <th>6</th>\n",
       "      <th>7</th>\n",
       "      <th>8</th>\n",
       "      <th>9</th>\n",
       "      <th>...</th>\n",
       "      <th>11</th>\n",
       "      <th>12</th>\n",
       "      <th>13</th>\n",
       "      <th>14</th>\n",
       "      <th>15</th>\n",
       "      <th>16</th>\n",
       "      <th>17</th>\n",
       "      <th>18</th>\n",
       "      <th>19</th>\n",
       "      <th>time</th>\n",
       "    </tr>\n",
       "  </thead>\n",
       "  <tbody>\n",
       "    <tr>\n",
       "      <th>0</th>\n",
       "      <td>-5.928774</td>\n",
       "      <td>-2.978601</td>\n",
       "      <td>-3.320634</td>\n",
       "      <td>-3.470345</td>\n",
       "      <td>-2.958156</td>\n",
       "      <td>-4.705866</td>\n",
       "      <td>-4.566947</td>\n",
       "      <td>-4.462758</td>\n",
       "      <td>-4.844342</td>\n",
       "      <td>-4.948923e+00</td>\n",
       "      <td>...</td>\n",
       "      <td>-5.173874</td>\n",
       "      <td>-5.409318</td>\n",
       "      <td>-5.760821</td>\n",
       "      <td>-6.081331</td>\n",
       "      <td>-6.413693</td>\n",
       "      <td>-5.555062</td>\n",
       "      <td>-8.241056</td>\n",
       "      <td>-10.291037</td>\n",
       "      <td>-11.737973</td>\n",
       "      <td>2016-11-18 20:00:00</td>\n",
       "    </tr>\n",
       "    <tr>\n",
       "      <th>1</th>\n",
       "      <td>-11.402727</td>\n",
       "      <td>-8.750596</td>\n",
       "      <td>-6.980657</td>\n",
       "      <td>-8.503150</td>\n",
       "      <td>-7.380865</td>\n",
       "      <td>-6.373020</td>\n",
       "      <td>-6.549218</td>\n",
       "      <td>-7.249262</td>\n",
       "      <td>-5.218583</td>\n",
       "      <td>-6.987684e+00</td>\n",
       "      <td>...</td>\n",
       "      <td>-7.513953</td>\n",
       "      <td>-8.413696</td>\n",
       "      <td>-6.891079</td>\n",
       "      <td>-5.694019</td>\n",
       "      <td>-7.456039</td>\n",
       "      <td>-4.235960</td>\n",
       "      <td>-3.785530</td>\n",
       "      <td>4.594848</td>\n",
       "      <td>16.173534</td>\n",
       "      <td>2016-11-18 21:00:00</td>\n",
       "    </tr>\n",
       "    <tr>\n",
       "      <th>2</th>\n",
       "      <td>0.595127</td>\n",
       "      <td>-0.638758</td>\n",
       "      <td>-1.915496</td>\n",
       "      <td>-1.245912</td>\n",
       "      <td>-1.789890</td>\n",
       "      <td>-0.588146</td>\n",
       "      <td>0.605599</td>\n",
       "      <td>-1.165643</td>\n",
       "      <td>-1.095844</td>\n",
       "      <td>3.552714e-15</td>\n",
       "      <td>...</td>\n",
       "      <td>0.000000</td>\n",
       "      <td>1.777977</td>\n",
       "      <td>0.326360</td>\n",
       "      <td>0.715440</td>\n",
       "      <td>4.220607</td>\n",
       "      <td>3.949746</td>\n",
       "      <td>5.871076</td>\n",
       "      <td>7.969069</td>\n",
       "      <td>22.089146</td>\n",
       "      <td>2016-11-18 22:00:00</td>\n",
       "    </tr>\n",
       "  </tbody>\n",
       "</table>\n",
       "<p>3 rows × 21 columns</p>\n",
       "</div>"
      ],
      "text/plain": [
       "           0         1         2         3         4         5         6   \n",
       "0  -5.928774 -2.978601 -3.320634 -3.470345 -2.958156 -4.705866 -4.566947  \\\n",
       "1 -11.402727 -8.750596 -6.980657 -8.503150 -7.380865 -6.373020 -6.549218   \n",
       "2   0.595127 -0.638758 -1.915496 -1.245912 -1.789890 -0.588146  0.605599   \n",
       "\n",
       "          7         8             9  ...        11        12        13   \n",
       "0 -4.462758 -4.844342 -4.948923e+00  ... -5.173874 -5.409318 -5.760821  \\\n",
       "1 -7.249262 -5.218583 -6.987684e+00  ... -7.513953 -8.413696 -6.891079   \n",
       "2 -1.165643 -1.095844  3.552714e-15  ...  0.000000  1.777977  0.326360   \n",
       "\n",
       "         14        15        16        17         18         19   \n",
       "0 -6.081331 -6.413693 -5.555062 -8.241056 -10.291037 -11.737973  \\\n",
       "1 -5.694019 -7.456039 -4.235960 -3.785530   4.594848  16.173534   \n",
       "2  0.715440  4.220607  3.949746  5.871076   7.969069  22.089146   \n",
       "\n",
       "                  time  \n",
       "0  2016-11-18 20:00:00  \n",
       "1  2016-11-18 21:00:00  \n",
       "2  2016-11-18 22:00:00  \n",
       "\n",
       "[3 rows x 21 columns]"
      ]
     },
     "execution_count": 82,
     "metadata": {},
     "output_type": "execute_result"
    }
   ],
   "source": [
    "dfu.head(3)"
   ]
  },
  {
   "cell_type": "code",
   "execution_count": 83,
   "id": "056231c0",
   "metadata": {},
   "outputs": [],
   "source": [
    "time = dfu.time.iloc[:3500]\n",
    "time = pd.to_datetime(time)"
   ]
  },
  {
   "cell_type": "code",
   "execution_count": 84,
   "id": "04e7e16e",
   "metadata": {},
   "outputs": [
    {
     "data": {
      "text/plain": [
       "(151, 151)"
      ]
     },
     "execution_count": 84,
     "metadata": {},
     "output_type": "execute_result"
    }
   ],
   "source": [
    "u.isna().sum(), v.isna().sum()"
   ]
  },
  {
   "cell_type": "code",
   "execution_count": 85,
   "id": "410e1e39",
   "metadata": {},
   "outputs": [],
   "source": [
    "u.interpolate(method='linear', limit=12, inplace=True)\n",
    "v.interpolate(method='linear', limit=12, inplace=True)"
   ]
  },
  {
   "cell_type": "markdown",
   "id": "4eaf640e",
   "metadata": {},
   "source": [
    "### Creataing a white noise"
   ]
  },
  {
   "cell_type": "code",
   "execution_count": 125,
   "id": "f88c4b50",
   "metadata": {},
   "outputs": [],
   "source": [
    "n = len(time) # comprimento\n",
    "amp = 0.001 # amplitude\n",
    "phase = np.pi/4 # fase em radianos\n",
    "t = 500 # horas\n",
    "t2 = 800 #\n",
    "white_noise = [amp + np.sin((i*np.pi/2)/t) for i in range(n)]\n",
    "white_noise2 = [amp + np.sin((i*np.pi/2)/t2 + phase) for i in range(n)]\n",
    "\n",
    "white_noise = np.array(white_noise)\n",
    "white_noise2 = np.array(white_noise2)"
   ]
  },
  {
   "cell_type": "code",
   "execution_count": 126,
   "id": "afa8d716",
   "metadata": {},
   "outputs": [
    {
     "data": {
      "text/plain": [
       "[<matplotlib.lines.Line2D at 0x191ceb5add0>]"
      ]
     },
     "execution_count": 126,
     "metadata": {},
     "output_type": "execute_result"
    },
    {
     "data": {
      "image/png": "[encoded data removed]",
      "text/plain": [
       "<Figure size 640x480 with 1 Axes>"
      ]
     },
     "metadata": {},
     "output_type": "display_data"
    }
   ],
   "source": [
    "plt.plot(white_noise)\n",
    "plt.plot(white_noise2)"
   ]
  },
  {
   "cell_type": "code",
   "execution_count": 88,
   "id": "c60bf524",
   "metadata": {},
   "outputs": [],
   "source": [
    "def add_noise(vector, noise) -> np.asarray:\n",
    "    from numpy import isnan\n",
    "    vector[isnan(vector)] = 0\n",
    "    vector = vector + noise\n",
    "    return vector"
   ]
  },
  {
   "cell_type": "code",
   "execution_count": 95,
   "id": "5c0fd3a9",
   "metadata": {},
   "outputs": [
    {
     "data": {
      "text/plain": [
       "(0, 0)"
      ]
     },
     "execution_count": 95,
     "metadata": {},
     "output_type": "execute_result"
    }
   ],
   "source": [
    "u, v = add_noise(u, white_noise), add_noise(v, white_noise2)\n",
    "u.isna().sum(), v.isna().sum()"
   ]
  },
  {
   "cell_type": "code",
   "execution_count": 96,
   "id": "fb7f6819",
   "metadata": {},
   "outputs": [],
   "source": [
    "# computing current as a complex vector\n",
    "c = v + u*1j"
   ]
  },
  {
   "cell_type": "code",
   "execution_count": 97,
   "id": "23e8e0df",
   "metadata": {},
   "outputs": [
    {
     "name": "stdout",
     "output_type": "stream",
     "text": [
      "solve: matrix prep ... solution ... done.\n"
     ]
    }
   ],
   "source": [
    "#from utide import solve\n",
    "coef = solve(time, v, u,\n",
    "             lat=-3,\n",
    "             nodal=False,\n",
    "             trend=False,\n",
    "             method='robust',\n",
    "             conf_int='linear',\n",
    "             Rayleigh_min=0.95,)"
   ]
  },
  {
   "cell_type": "code",
   "execution_count": 118,
   "id": "662ab222",
   "metadata": {
    "scrolled": false
   },
   "outputs": [
    {
     "data": {
      "text/plain": [
       "dict_keys(['name', 'aux', 'nR', 'nNR', 'nI', 'rf', 'weights', 'Lsmaj', 'Lsmin', 'theta', 'g', 'umean', 'vmean', 'g_ci', 'Lsmaj_ci', 'Lsmin_ci', 'theta_ci', 'diagn', 'PE', 'SNR'])"
      ]
     },
     "execution_count": 118,
     "metadata": {},
     "output_type": "execute_result"
    }
   ],
   "source": [
    "coef.keys()"
   ]
  },
  {
   "cell_type": "code",
   "execution_count": 121,
   "id": "0b9bab1d",
   "metadata": {},
   "outputs": [],
   "source": [
    "#help(coef.weights)"
   ]
  },
  {
   "cell_type": "code",
   "execution_count": null,
   "id": "d370a5c1",
   "metadata": {},
   "outputs": [],
   "source": [
    "#coef.PE"
   ]
  },
  {
   "cell_type": "code",
   "execution_count": 100,
   "id": "6ca52ed5",
   "metadata": {},
   "outputs": [],
   "source": [
    "text = coef.diagn"
   ]
  },
  {
   "cell_type": "code",
   "execution_count": 101,
   "id": "74cd5c04",
   "metadata": {},
   "outputs": [
    {
     "name": "stdout",
     "output_type": "stream",
     "text": [
      "    name         PE          SNR\n",
      "0     M2  78.336613  3138.516887\n",
      "1     S2   7.384869   296.206550\n",
      "2     MM   5.424804    52.353820\n",
      "3     N2   2.899374   116.103802\n",
      "4     K1   1.640182    65.606465\n",
      "5    NO1   0.936448    37.446052\n",
      "6    MU2   0.333296    13.352294\n",
      "7    MSF   0.325960     3.147355\n",
      "8   ALP1   0.275417    11.042659\n",
      "9    MK3   0.246569    13.529394\n",
      "10  2SK5   0.244996    15.096064\n",
      "11   2Q1   0.218783     8.753890\n",
      "12   SN4   0.207465    12.363323\n",
      "13    Q1   0.181962     7.281515\n",
      "14    M4   0.177138    10.554409\n",
      "15   MN4   0.152238     9.092535\n",
      "16    M3   0.117108     6.416392\n",
      "17    O1   0.105946     4.236936\n",
      "18   OO1   0.105146     4.206930\n",
      "19    J1   0.092238     3.688828\n",
      "20  ETA2   0.091419     3.671498\n",
      "21  2MN6   0.089624     5.590345\n",
      "22    S4   0.082530     4.940460\n",
      "23   MS4   0.064637     3.860019\n",
      "24   MO3   0.060178     3.302279\n",
      "25  UPS1   0.058243     2.334699\n",
      "26    M6   0.041310     2.575836\n",
      "27  EPS2   0.034169     1.371259\n",
      "28  2MS6   0.018347     1.146672\n",
      "29    L2   0.014795     0.592205\n",
      "30  2MK5   0.014387     0.886289\n",
      "31    M8   0.010542     0.691421\n",
      "32  2SM6   0.006146     0.384191\n",
      "33   SK3   0.005332     0.293411\n",
      "34  3MK7   0.001788     0.113684\n"
     ]
    }
   ],
   "source": [
    "print(pd.DataFrame(text))"
   ]
  },
  {
   "cell_type": "code",
   "execution_count": null,
   "id": "6338cd3e",
   "metadata": {},
   "outputs": [],
   "source": [
    "coef.keys()"
   ]
  },
  {
   "cell_type": "code",
   "execution_count": 114,
   "id": "8fce58c6",
   "metadata": {
    "scrolled": false
   },
   "outputs": [],
   "source": [
    "#help(utide._ut_constants)"
   ]
  },
  {
   "cell_type": "code",
   "execution_count": 77,
   "id": "cef0e5a0",
   "metadata": {
    "scrolled": false
   },
   "outputs": [
    {
     "name": "stdout",
     "output_type": "stream",
     "text": [
      "Help on function solve in module utide._solve:\n",
      "\n",
      "solve(t, u, v=None, lat=None, **opts)\n",
      "    Calculate amplitude, phase, confidence intervals of tidal constituents.\n",
      "    \n",
      "    Parameters\n",
      "    ----------\n",
      "    t : array_like\n",
      "        Time in days since `epoch`, or np.datetime64 array, or pandas datetime array.\n",
      "    u : array_like\n",
      "        Sea-surface height, velocity component, etc.\n",
      "    v : {None, array_like}, optional\n",
      "        If `u` is a velocity component, `v` is the orthogonal component.\n",
      "    lat : float, required\n",
      "        Latitude in degrees.\n",
      "    epoch : {string, `datetime.date`, `datetime.datetime`}, if datenum is provided in t.\n",
      "        Default `None` if `t` is `datetime`, `np.datetime64`, or `pd.datetime array.`\n",
      "        Optional valid strings are\n",
      "            - 'python' : if `t` is days since '0000-12-31'\n",
      "            - 'matlab' : if `t` is days since '0000-00-00'\n",
      "        Or, an arbitrary date in the form 'YYYY-MM-DD'.\n",
      "    constit : {'auto', sequence}, optional\n",
      "        List of strings with standard letter abbreviations of\n",
      "        tidal constituents; or 'auto' to let the list be determined\n",
      "        based on the time span.\n",
      "    conf_int : {'linear', 'MC', 'none'}, optional\n",
      "        If not 'none' (string), calculate linearized confidence\n",
      "        intervals, or use a Monte-Carlo simulation.\n",
      "    method : {'ols', 'robust'}, optional\n",
      "        Solve with ordinary least squares, or with a robust algorithm.\n",
      "    trend : bool, optional\n",
      "        True (default) to include a linear trend in the model.\n",
      "    phase : {'Greenwich', 'linear_time', 'raw'}, optional\n",
      "        Give Greenwich-referenced phase lags, an approximation\n",
      "        using linearized times, or raw lags.\n",
      "    nodal : {True, False, 'linear_time'}, optional\n",
      "        True (default) to include nodal/satellite corrections;\n",
      "        'linear_time' to use the linearized time approximation;\n",
      "        False to omit nodal corrections.\n",
      "    \n",
      "    Returns\n",
      "    -------\n",
      "    coef : Bunch\n",
      "        Data container with all configuration and solution information:\n",
      "    \n",
      "    Other Parameters\n",
      "    ----------------\n",
      "    infer : {None, dict or Bunch}, optional; default is None.\n",
      "        If not None, the items are:\n",
      "    \n",
      "        **inferred_names** : {sequence of N strings}\n",
      "            inferred constituent names\n",
      "        **reference_names** : {sequence of N strings}\n",
      "            reference constituent names\n",
      "        **amp_ratios** : {sequence, N or 2N floats}\n",
      "            amplitude ratios (unitless)\n",
      "        **phase_offsets** : {sequence, N or 2N floats}\n",
      "            phase offsets (degrees)\n",
      "        **approximate** : {bool, optional (default is False)}\n",
      "            use approximate method\n",
      "    \n",
      "        amp_ratios and phase_offsets have length N for a scalar\n",
      "        time series, or 2N for a vector series.\n",
      "    \n",
      "    order_constit : {'PE', 'SNR', 'frequency', sequence}, optional\n",
      "        The default is 'PE' (percent energy) order, returning results ordered from\n",
      "        high energy to low.\n",
      "        The 'SNR' order is from high signal-to-noise ratio to low, and is\n",
      "        available only if `conf_int` is not 'none'. The\n",
      "        'frequency' order is from low to high frequency. Alternatively, a\n",
      "        sequence of constituent names may be supplied, typically the same list as\n",
      "        given in the *constit* option.\n",
      "    MC_n : integer, optional\n",
      "        Not yet implemented.\n",
      "    robust_kw : dict, optional\n",
      "        Keyword arguments for `robustfit`, if `method` is 'robust'.\n",
      "    Rayleigh_min : float\n",
      "        Minimum conventional Rayleigh criterion for automatic\n",
      "        constituent selection; default is 1.\n",
      "    white : bool\n",
      "        If False (default), use band-averaged spectra from the\n",
      "        residuals in the confidence limit estimates; if True,\n",
      "        assume a white background spectrum.\n",
      "    verbose : {True, False}, optional\n",
      "        True (default) turns on verbose output. False emits no messages.\n",
      "    \n",
      "    Note\n",
      "    ----\n",
      "    `utide.reconstruct` requires the calculation of confidence intervals.\n",
      "    \n",
      "    Notes\n",
      "    -----\n",
      "    \n",
      "    To be added: much additional explanation.\n",
      "    \n",
      "    There will also be more \"Other Parameters\".\n",
      "\n"
     ]
    }
   ],
   "source": [
    "help(solve)"
   ]
  },
  {
   "cell_type": "code",
   "execution_count": 122,
   "id": "5e1e262d",
   "metadata": {
    "scrolled": true
   },
   "outputs": [],
   "source": [
    "#help(coef)"
   ]
  }
 ],
 "metadata": {
  "kernelspec": {
   "display_name": "Python 3 (ipykernel)",
   "language": "python",
   "name": "python3"
  },
  "language_info": {
   "codemirror_mode": {
    "name": "ipython",
    "version": 3
   },
   "file_extension": ".py",
   "mimetype": "text/x-python",
   "name": "python",
   "nbconvert_exporter": "python",
   "pygments_lexer": "ipython3",
   "version": "3.10.8"
  }
 },
 "nbformat": 4,
 "nbformat_minor": 5
}
