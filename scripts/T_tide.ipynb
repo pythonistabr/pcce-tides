{
 "cells": [
  {
   "cell_type": "code",
   "execution_count": 1,
   "id": "cdad0e98",
   "metadata": {},
   "outputs": [
    {
     "name": "stderr",
     "output_type": "stream",
     "text": [
      "C:\\Users\\216606\\AppData\\Local\\pypoetry\\Cache\\virtualenvs\\pcce-tides-iU3Jyl7S-py3.10\\lib\\site-packages\\utide\\harmonics.py:16: RuntimeWarning: invalid value encountered in cast\n",
      "  nshallow = np.ma.masked_invalid(const.nshallow).astype(int)\n",
      "C:\\Users\\216606\\AppData\\Local\\pypoetry\\Cache\\virtualenvs\\pcce-tides-iU3Jyl7S-py3.10\\lib\\site-packages\\utide\\harmonics.py:17: RuntimeWarning: invalid value encountered in cast\n",
      "  ishallow = np.ma.masked_invalid(const.ishallow).astype(int) - 1\n"
     ]
    }
   ],
   "source": [
    "import pandas as pd\n",
    "from utide import solve, reconstruct\n",
    "import matplotlib.pyplot as plt\n",
    "import numpy as np"
   ]
  },
  {
   "cell_type": "code",
   "execution_count": 2,
   "id": "e04e1d62",
   "metadata": {},
   "outputs": [],
   "source": [
    "import utide"
   ]
  },
  {
   "cell_type": "code",
   "execution_count": 3,
   "id": "3537b9bb",
   "metadata": {},
   "outputs": [],
   "source": [
    "#dfu = pd.read_csv('../data/ul-boia-completo.csv', delimiter=';')\n",
    "#dfv = pd.read_csv('../data/ul-boia-completo.csv', delimiter=';')"
   ]
  },
  {
   "cell_type": "code",
   "execution_count": null,
   "id": "ad636341",
   "metadata": {},
   "outputs": [],
   "source": [
    "#u = dfu.iloc[0:3000, 1]\n",
    "#v = dfv.iloc[0:3000, 1]"
   ]
  },
  {
   "cell_type": "code",
   "execution_count": null,
   "id": "c3056a2d",
   "metadata": {},
   "outputs": [],
   "source": [
    "#dfu.head(3)"
   ]
  },
  {
   "cell_type": "code",
   "execution_count": 7,
   "id": "056231c0",
   "metadata": {},
   "outputs": [],
   "source": [
    "#time = dfu.time.iloc[:3000]\n",
    "#time = pd.to_datetime(time)"
   ]
  },
  {
   "cell_type": "code",
   "execution_count": null,
   "id": "4394e7b2",
   "metadata": {},
   "outputs": [],
   "source": [
    "#time"
   ]
  },
  {
   "cell_type": "code",
   "execution_count": null,
   "id": "04e7e16e",
   "metadata": {},
   "outputs": [],
   "source": [
    "#u.isna().sum(), v.isna().sum()"
   ]
  },
  {
   "cell_type": "code",
   "execution_count": null,
   "id": "410e1e39",
   "metadata": {},
   "outputs": [],
   "source": [
    "#u.interpolate(method='linear', limit=12, inplace=True)\n",
    "#v.interpolate(method='linear', limit=12, inplace=True)"
   ]
  },
  {
   "cell_type": "markdown",
   "id": "4eaf640e",
   "metadata": {},
   "source": [
    "### Creataing a white noise"
   ]
  },
  {
   "cell_type": "code",
   "execution_count": null,
   "id": "f88c4b50",
   "metadata": {},
   "outputs": [],
   "source": [
    "#n = len(time) # comprimento\n",
    "#amp = 0.001 # amplitude\n",
    "#phase = np.pi/4 # fase em radianos\n",
    "#t = 500 # horas\n",
    "#t2 = 800 #\n",
    "#white_noise = [amp + np.sin((i*np.pi/2)/t) for i in range(n)]\n",
    "#white_noise2 = [amp + np.sin((i*np.pi/2)/t2 + phase) for i in range(n)]\n",
    "\n",
    "#white_noise = np.array(white_noise)\n",
    "#white_noise2 = np.array(white_noise2)"
   ]
  },
  {
   "cell_type": "code",
   "execution_count": null,
   "id": "afa8d716",
   "metadata": {},
   "outputs": [],
   "source": [
    "#plt.plot(white_noise)\n",
    "#plt.plot(white_noise2)"
   ]
  },
  {
   "cell_type": "code",
   "execution_count": 4,
   "id": "c60bf524",
   "metadata": {},
   "outputs": [],
   "source": [
    "def add_noise(vector, noise) -> np.asarray:\n",
    "    from numpy import isnan\n",
    "    vector[isnan(vector)] = 0\n",
    "    vector = vector + noise\n",
    "    return vector"
   ]
  },
  {
   "cell_type": "code",
   "execution_count": 35,
   "id": "2bfd84ea",
   "metadata": {},
   "outputs": [],
   "source": [
    "def T_tide(time:np.datetime64, c:np.asarray):\n",
    "    \n",
    "    coef = solve(time, c,\n",
    "                 lat=-3,\n",
    "                 nodal=False,\n",
    "                 trend=False,\n",
    "                 method='robust',\n",
    "                 conf_int='linear',\n",
    "                 Rayleigh_min=0.95,)\n",
    "    \n",
    "    print('\\n Name \\t Amp \\t Phase \\t PE \\t SNR ')\n",
    "    for name, amp, phase, pe, snr in zip(coef.name, coef.A, coef.g, coef.PE, coef.SNR):\n",
    "        print(' {} \\t {:.2f} \\t {:.1f} \\t {:.2f} \\t {:.2f} '.format(name, amp, phase, pe, snr))"
   ]
  },
  {
   "cell_type": "code",
   "execution_count": 39,
   "id": "9d69a1d2",
   "metadata": {
    "scrolled": false
   },
   "outputs": [
    {
     "name": "stdout",
     "output_type": "stream",
     "text": [
      "solve: matrix prep ... solution ... done.\n",
      "\n",
      " Name \t Amp \t Phase \t PE \t SNR \n",
      " M2 \t 7.52 \t 317.6 \t 78.33 \t 3588.95 \n",
      " S2 \t 2.26 \t 330.2 \t 7.07 \t 323.92 \n",
      " MM \t 2.19 \t 198.2 \t 6.64 \t 43.58 \n",
      " N2 \t 1.41 \t 301.3 \t 2.74 \t 125.59 \n",
      " K1 \t 1.01 \t 263.2 \t 1.41 \t 53.70 \n",
      " MSF \t 0.67 \t 202.6 \t 0.62 \t 4.05 \n",
      " NO1 \t 0.62 \t 330.9 \t 0.53 \t 20.28 \n",
      " MK3 \t 0.44 \t 224.4 \t 0.27 \t 33.11 \n",
      " 2SK5 \t 0.43 \t 258.3 \t 0.26 \t 73.13 \n",
      " MU2 \t 0.41 \t 13.9 \t 0.23 \t 10.60 \n",
      " MN4 \t 0.38 \t 220.7 \t 0.20 \t 42.98 \n",
      " M4 \t 0.32 \t 179.1 \t 0.14 \t 31.80 \n",
      " ETA2 \t 0.31 \t 79.6 \t 0.14 \t 6.22 \n",
      " S4 \t 0.31 \t 43.2 \t 0.13 \t 29.40 \n",
      " 2Q1 \t 0.30 \t 48.5 \t 0.13 \t 4.78 \n",
      " SN4 \t 0.30 \t 190.7 \t 0.12 \t 27.45 \n",
      " 2MN6 \t 0.28 \t 47.7 \t 0.11 \t 32.50 \n",
      " M3 \t 0.28 \t 315.0 \t 0.11 \t 13.13 \n",
      " Q1 \t 0.27 \t 200.4 \t 0.10 \t 3.97 \n",
      " MO3 \t 0.27 \t 149.9 \t 0.10 \t 12.72 \n",
      " OO1 \t 0.27 \t 262.1 \t 0.10 \t 3.81 \n",
      " O1 \t 0.26 \t 82.4 \t 0.09 \t 3.58 \n",
      " ALP1 \t 0.24 \t 280.5 \t 0.08 \t 3.09 \n",
      " MS4 \t 0.23 \t 130.8 \t 0.08 \t 16.79 \n",
      " UPS1 \t 0.23 \t 240.1 \t 0.07 \t 2.75 \n",
      " J1 \t 0.20 \t 49.1 \t 0.06 \t 2.17 \n",
      " M6 \t 0.18 \t 37.5 \t 0.04 \t 12.85 \n",
      " 2MS6 \t 0.15 \t 77.0 \t 0.03 \t 9.55 \n",
      " 2SM6 \t 0.10 \t 137.8 \t 0.02 \t 4.39 \n",
      " M8 \t 0.10 \t 21.4 \t 0.01 \t 7.62 \n",
      " SK3 \t 0.08 \t 218.9 \t 0.01 \t 1.04 \n",
      " EPS2 \t 0.07 \t 139.4 \t 0.01 \t 0.36 \n",
      " L2 \t 0.07 \t 80.8 \t 0.01 \t 0.35 \n",
      " 3MK7 \t 0.05 \t 192.6 \t 0.00 \t 1.09 \n",
      " 2MK5 \t 0.04 \t 84.0 \t 0.00 \t 0.71 \n",
      "solve: matrix prep ... solution ... done.\n",
      "\n",
      " Name \t Amp \t Phase \t PE \t SNR \n",
      " M2 \t 7.82 \t 315.2 \t 82.10 \t 4114.04 \n",
      " S2 \t 2.76 \t 333.4 \t 10.24 \t 512.95 \n",
      " N2 \t 1.61 \t 288.8 \t 3.47 \t 174.42 \n",
      " MM \t 0.86 \t 213.7 \t 1.00 \t 22.86 \n",
      " NO1 \t 0.63 \t 5.6 \t 0.53 \t 30.91 \n",
      " Q1 \t 0.58 \t 254.6 \t 0.45 \t 25.73 \n",
      " K1 \t 0.56 \t 326.3 \t 0.41 \t 23.90 \n",
      " MS4 \t 0.37 \t 155.8 \t 0.19 \t 26.58 \n",
      " M4 \t 0.36 \t 163.9 \t 0.17 \t 24.61 \n",
      " OO1 \t 0.32 \t 119.3 \t 0.14 \t 8.12 \n",
      " MSF \t 0.31 \t 340.1 \t 0.13 \t 2.94 \n",
      " M3 \t 0.29 \t 326.1 \t 0.11 \t 20.84 \n",
      " MN4 \t 0.29 \t 174.3 \t 0.11 \t 16.01 \n",
      " O1 \t 0.29 \t 316.8 \t 0.11 \t 6.45 \n",
      " EPS2 \t 0.26 \t 288.2 \t 0.09 \t 4.66 \n",
      " 2SM6 \t 0.25 \t 176.1 \t 0.08 \t 26.26 \n",
      " ALP1 \t 0.24 \t 56.2 \t 0.08 \t 4.56 \n",
      " 2Q1 \t 0.23 \t 66.4 \t 0.07 \t 3.97 \n",
      " M8 \t 0.22 \t 331.6 \t 0.06 \t 40.22 \n",
      " 2MS6 \t 0.21 \t 89.2 \t 0.06 \t 18.26 \n",
      " J1 \t 0.19 \t 125.7 \t 0.05 \t 2.83 \n",
      " MK3 \t 0.17 \t 218.4 \t 0.04 \t 6.87 \n",
      " 2MK5 \t 0.17 \t 147.5 \t 0.04 \t 12.09 \n",
      " SN4 \t 0.17 \t 203.8 \t 0.04 \t 5.24 \n",
      " 2MN6 \t 0.16 \t 166.7 \t 0.04 \t 11.61 \n",
      " SK3 \t 0.15 \t 335.1 \t 0.03 \t 5.79 \n",
      " UPS1 \t 0.15 \t 264.0 \t 0.03 \t 1.72 \n",
      " ETA2 \t 0.15 \t 111.0 \t 0.03 \t 1.49 \n",
      " 2SK5 \t 0.15 \t 265.3 \t 0.03 \t 9.48 \n",
      " M6 \t 0.12 \t 43.0 \t 0.02 \t 6.64 \n",
      " L2 \t 0.12 \t 75.5 \t 0.02 \t 0.90 \n",
      " S4 \t 0.11 \t 222.2 \t 0.02 \t 2.29 \n",
      " MU2 \t 0.09 \t 346.3 \t 0.01 \t 0.59 \n",
      " 3MK7 \t 0.07 \t 134.6 \t 0.01 \t 3.49 \n",
      " MO3 \t 0.05 \t 97.9 \t 0.00 \t 0.51 \n",
      "solve: matrix prep ... solution ... done.\n",
      "\n",
      " Name \t Amp \t Phase \t PE \t SNR \n",
      " K1 \t 7.27 \t 55.2 \t 32.37 \t 275.53 \n",
      " MM \t 4.29 \t 24.5 \t 11.26 \t 8.58 \n",
      " S2 \t 4.14 \t 14.9 \t 10.48 \t 81.73 \n",
      " M2 \t 4.03 \t 315.4 \t 9.94 \t 77.41 \n",
      " NO1 \t 3.05 \t 112.9 \t 5.68 \t 48.23 \n",
      " MSF \t 2.44 \t 299.1 \t 3.65 \t 2.78 \n",
      " SK3 \t 2.32 \t 319.1 \t 3.29 \t 68.39 \n",
      " J1 \t 2.15 \t 307.8 \t 2.82 \t 24.00 \n",
      " 2Q1 \t 1.97 \t 198.4 \t 2.37 \t 20.16 \n",
      " L2 \t 1.90 \t 211.9 \t 2.21 \t 17.14 \n",
      " UPS1 \t 1.82 \t 306.7 \t 2.03 \t 17.28 \n",
      " N2 \t 1.80 \t 271.2 \t 1.98 \t 15.38 \n",
      " Q1 \t 1.64 \t 45.6 \t 1.65 \t 14.09 \n",
      " EPS2 \t 1.53 \t 288.8 \t 1.44 \t 11.19 \n",
      " ETA2 \t 1.48 \t 331.0 \t 1.35 \t 10.51 \n",
      " O1 \t 1.19 \t 260.2 \t 0.86 \t 7.37 \n",
      " MK3 \t 1.14 \t 334.6 \t 0.80 \t 16.64 \n",
      " S4 \t 1.10 \t 296.8 \t 0.73 \t 18.01 \n",
      " 2SM6 \t 1.05 \t 177.5 \t 0.67 \t 30.34 \n",
      " MN4 \t 1.00 \t 253.2 \t 0.62 \t 15.09 \n",
      " MU2 \t 0.89 \t 300.4 \t 0.49 \t 3.81 \n",
      " ALP1 \t 0.86 \t 230.2 \t 0.45 \t 3.83 \n",
      " MO3 \t 0.85 \t 170.1 \t 0.44 \t 9.25 \n",
      " M3 \t 0.83 \t 84.4 \t 0.42 \t 8.74 \n",
      " 2MS6 \t 0.79 \t 182.7 \t 0.38 \t 17.10 \n",
      " M6 \t 0.78 \t 155.8 \t 0.37 \t 16.66 \n",
      " MS4 \t 0.74 \t 234.8 \t 0.34 \t 8.26 \n",
      " M4 \t 0.67 \t 332.2 \t 0.28 \t 6.81 \n",
      " 2MN6 \t 0.57 \t 167.3 \t 0.20 \t 9.05 \n",
      " 3MK7 \t 0.46 \t 52.1 \t 0.13 \t 6.34 \n",
      " SN4 \t 0.42 \t 296.0 \t 0.11 \t 2.65 \n",
      " M8 \t 0.33 \t 125.8 \t 0.07 \t 4.03 \n",
      " OO1 \t 0.29 \t 238.4 \t 0.05 \t 0.44 \n",
      " 2MK5 \t 0.24 \t 74.5 \t 0.04 \t 1.24 \n",
      " 2SK5 \t 0.20 \t 172.1 \t 0.02 \t 0.85 \n"
     ]
    }
   ],
   "source": [
    "dfu = pd.read_csv('../data/ul-boia-completo.csv', delimiter=';')\n",
    "dfv = pd.read_csv('../data/ul-boia-completo.csv', delimiter=';')\n",
    "\n",
    "\n",
    "time = dfu.time.iloc[:3000]\n",
    "time = pd.to_datetime(time)\n",
    "\n",
    "# ruido branco\n",
    "n = len(time) # comprimento\n",
    "amp = 0.001 # amplitude\n",
    "phase = np.pi/4 # fase em radianos\n",
    "t = 1500 # T horas\n",
    "t2 = 1800 # T horas\n",
    "\n",
    "#add ruido no dado\n",
    "white_noise = [amp + np.sin((i*np.pi/2)/t) for i in range(n)]\n",
    "white_noise2 = [amp + np.sin((i*np.pi/2)/t2 + phase) for i in range(n)]\n",
    "white_noise = np.array(white_noise)\n",
    "white_noise2 = np.array(white_noise2)\n",
    "\n",
    "# peformando a análise harmonica\n",
    "for depth in [1, 10, 19]:    \n",
    "    \n",
    "    uvec = dfu.iloc[:3000, depth]\n",
    "    vvec = dfv.iloc[:3000, depth]\n",
    "    uvec = uvec-np.nanmean(uvec)\n",
    "    vvec = vvec-np.nanmean(vvec)\n",
    "    \n",
    "    uvec.interpolate(method='linear', limit=12, inplace=True)\n",
    "    vvec.interpolate(method='linear', limit=12, inplace=True)\n",
    "    \n",
    "    uvec, vvec = add_noise(uvec, noise=white_noise), add_noise(vvec, noise=white_noise2)\n",
    "    complex_vec = uvec + vvec*1j\n",
    "    \n",
    "    T_tide(time, complex_vec)"
   ]
  },
  {
   "cell_type": "markdown",
   "id": "6a04433e",
   "metadata": {},
   "source": [
    "#from utide import solve\n",
    "coef = solve(time, c,\n",
    "             lat=-3,\n",
    "             nodal=False,\n",
    "             trend=False,\n",
    "             method='robust',\n",
    "             conf_int='linear',\n",
    "             Rayleigh_min=0.95,)"
   ]
  }
 ],
 "metadata": {
  "kernelspec": {
   "display_name": "Python 3 (ipykernel)",
   "language": "python",
   "name": "python3"
  },
  "language_info": {
   "codemirror_mode": {
    "name": "ipython",
    "version": 3
   },
   "file_extension": ".py",
   "mimetype": "text/x-python",
   "name": "python",
   "nbconvert_exporter": "python",
   "pygments_lexer": "ipython3",
   "version": "3.10.8"
  }
 },
 "nbformat": 4,
 "nbformat_minor": 5
}
