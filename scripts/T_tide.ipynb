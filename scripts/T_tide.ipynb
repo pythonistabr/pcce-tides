{
 "cells": [
  {
   "cell_type": "code",
   "execution_count": 1,
   "id": "cdad0e98",
   "metadata": {},
   "outputs": [
    {
     "name": "stderr",
     "output_type": "stream",
     "text": [
      "/home/gustavo/.cache/pypoetry/virtualenvs/pcce-tides-tPVxqpqz-py3.8/lib/python3.8/site-packages/utide/harmonics.py:16: RuntimeWarning: invalid value encountered in cast\n",
      "  nshallow = np.ma.masked_invalid(const.nshallow).astype(int)\n",
      "/home/gustavo/.cache/pypoetry/virtualenvs/pcce-tides-tPVxqpqz-py3.8/lib/python3.8/site-packages/utide/harmonics.py:17: RuntimeWarning: invalid value encountered in cast\n",
      "  ishallow = np.ma.masked_invalid(const.ishallow).astype(int) - 1\n"
     ]
    }
   ],
   "source": [
    "import pandas as pd\n",
    "from utide import solve, reconstruct\n",
    "import matplotlib.pyplot as plt\n",
    "import numpy as np"
   ]
  },
  {
   "cell_type": "code",
   "execution_count": 2,
   "id": "e04e1d62",
   "metadata": {},
   "outputs": [],
   "source": [
    "#import utide"
   ]
  },
  {
   "cell_type": "code",
   "execution_count": 3,
   "id": "3537b9bb",
   "metadata": {},
   "outputs": [],
   "source": [
    "#dfu = pd.read_csv('../data/ul-boia-completo.csv', delimiter=';')\n",
    "#dfv = pd.read_csv('../data/ul-boia-completo.csv', delimiter=';')"
   ]
  },
  {
   "cell_type": "code",
   "execution_count": null,
   "id": "ad636341",
   "metadata": {},
   "outputs": [],
   "source": [
    "#u = dfu.iloc[0:3000, 1]\n",
    "#v = dfv.iloc[0:3000, 1]"
   ]
  },
  {
   "cell_type": "code",
   "execution_count": null,
   "id": "c3056a2d",
   "metadata": {},
   "outputs": [],
   "source": [
    "#dfu.head(3)"
   ]
  },
  {
   "cell_type": "code",
   "execution_count": 7,
   "id": "056231c0",
   "metadata": {},
   "outputs": [],
   "source": [
    "#time = dfu.time.iloc[:3000]\n",
    "#time = pd.to_datetime(time)"
   ]
  },
  {
   "cell_type": "code",
   "execution_count": null,
   "id": "4394e7b2",
   "metadata": {},
   "outputs": [],
   "source": [
    "#time"
   ]
  },
  {
   "cell_type": "code",
   "execution_count": null,
   "id": "04e7e16e",
   "metadata": {},
   "outputs": [],
   "source": [
    "#u.isna().sum(), v.isna().sum()"
   ]
  },
  {
   "cell_type": "code",
   "execution_count": null,
   "id": "410e1e39",
   "metadata": {},
   "outputs": [],
   "source": [
    "#u.interpolate(method='linear', limit=12, inplace=True)\n",
    "#v.interpolate(method='linear', limit=12, inplace=True)"
   ]
  },
  {
   "cell_type": "markdown",
   "id": "4eaf640e",
   "metadata": {},
   "source": [
    "### Creataing a white noise"
   ]
  },
  {
   "cell_type": "code",
   "execution_count": null,
   "id": "f88c4b50",
   "metadata": {},
   "outputs": [],
   "source": [
    "#n = len(time) # comprimento\n",
    "#amp = 0.001 # amplitude\n",
    "#phase = np.pi/4 # fase em radianos\n",
    "#t = 500 # horas\n",
    "#t2 = 800 #\n",
    "#white_noise = [amp + np.sin((i*np.pi/2)/t) for i in range(n)]\n",
    "#white_noise2 = [amp + np.sin((i*np.pi/2)/t2 + phase) for i in range(n)]\n",
    "\n",
    "#white_noise = np.array(white_noise)\n",
    "#white_noise2 = np.array(white_noise2)"
   ]
  },
  {
   "cell_type": "code",
   "execution_count": null,
   "id": "afa8d716",
   "metadata": {},
   "outputs": [],
   "source": [
    "#plt.plot(white_noise)\n",
    "#plt.plot(white_noise2)"
   ]
  },
  {
   "cell_type": "code",
   "execution_count": 3,
   "id": "c60bf524",
   "metadata": {},
   "outputs": [],
   "source": [
    "def add_noise(vector, noise) -> np.asarray:\n",
    "    from numpy import isnan\n",
    "    vector[isnan(vector)] = 0\n",
    "    vector = vector + noise\n",
    "    return vector"
   ]
  },
  {
   "cell_type": "code",
   "execution_count": 37,
   "id": "2bfd84ea",
   "metadata": {},
   "outputs": [],
   "source": [
    "def T_tide(time:np.datetime64, c:np.asarray):\n",
    "    global coef\n",
    "    coef = solve(time, c,\n",
    "                 lat=-3,\n",
    "                 nodal=False,\n",
    "                 trend=False,\n",
    "                 method='robust',\n",
    "                 conf_int='linear',\n",
    "                 Rayleigh_min=0.95,)\n",
    "    \n",
    "    print('Name\\tAmp\\tPhase\\tFreq\\tPE\\tSNR\\t')\n",
    "    for name, amp, phase, frq ,pe, snr in zip(coef.name, coef.A, coef.g, coef.aux.frq ,coef.PE, coef.SNR):\n",
    "        print(' {}\\t{:.2f}\\t{:.1f}\\t{:.4f}\\t{:.2f}\\t {:.2f}\\t'.format(name, amp, phase, frq, pe, snr))"
   ]
  },
  {
   "cell_type": "code",
   "execution_count": 38,
   "id": "9d69a1d2",
   "metadata": {
    "scrolled": false
   },
   "outputs": [
    {
     "name": "stdout",
     "output_type": "stream",
     "text": [
      "solve: matrix prep ... solution ... done.\n",
      "Name\tAmp\tPhase\tFreq\tPE\tSNR\t\n",
      " M2\t7.52\t317.6\t0.0805\t78.33\t 3588.95\t\n",
      " S2\t2.26\t330.2\t0.0833\t7.07\t 323.92\t\n",
      " MM\t2.19\t198.2\t0.0015\t6.64\t 43.58\t\n",
      " N2\t1.41\t301.3\t0.0790\t2.74\t 125.59\t\n",
      " K1\t1.01\t263.2\t0.0418\t1.41\t 53.70\t\n",
      " MSF\t0.67\t202.6\t0.0028\t0.62\t 4.05\t\n",
      " NO1\t0.62\t330.9\t0.0403\t0.53\t 20.28\t\n",
      " MK3\t0.44\t224.4\t0.1223\t0.27\t 33.11\t\n",
      " 2SK5\t0.43\t258.3\t0.2084\t0.26\t 73.13\t\n",
      " MU2\t0.41\t13.9\t0.0777\t0.23\t 10.60\t\n",
      " MN4\t0.38\t220.7\t0.1595\t0.20\t 42.98\t\n",
      " M4\t0.32\t179.1\t0.1610\t0.14\t 31.80\t\n",
      " ETA2\t0.31\t79.6\t0.0851\t0.14\t 6.22\t\n",
      " S4\t0.31\t43.2\t0.1667\t0.13\t 29.40\t\n",
      " 2Q1\t0.30\t48.5\t0.0357\t0.13\t 4.78\t\n",
      " SN4\t0.30\t190.7\t0.1623\t0.12\t 27.45\t\n",
      " 2MN6\t0.28\t47.7\t0.2400\t0.11\t 32.50\t\n",
      " M3\t0.28\t315.0\t0.1208\t0.11\t 13.13\t\n",
      " Q1\t0.27\t200.4\t0.0372\t0.10\t 3.97\t\n",
      " MO3\t0.27\t149.9\t0.1192\t0.10\t 12.72\t\n",
      " OO1\t0.27\t262.1\t0.0448\t0.10\t 3.81\t\n",
      " O1\t0.26\t82.4\t0.0387\t0.09\t 3.58\t\n",
      " ALP1\t0.24\t280.5\t0.0344\t0.08\t 3.09\t\n",
      " MS4\t0.23\t130.8\t0.1638\t0.08\t 16.79\t\n",
      " UPS1\t0.23\t240.1\t0.0463\t0.07\t 2.75\t\n",
      " J1\t0.20\t49.1\t0.0433\t0.06\t 2.17\t\n",
      " M6\t0.18\t37.5\t0.2415\t0.04\t 12.85\t\n",
      " 2MS6\t0.15\t77.0\t0.2444\t0.03\t 9.55\t\n",
      " 2SM6\t0.10\t137.8\t0.2472\t0.02\t 4.39\t\n",
      " M8\t0.10\t21.4\t0.3220\t0.01\t 7.62\t\n",
      " SK3\t0.08\t218.9\t0.1251\t0.01\t 1.04\t\n",
      " EPS2\t0.07\t139.4\t0.0762\t0.01\t 0.36\t\n",
      " L2\t0.07\t80.8\t0.0820\t0.01\t 0.35\t\n",
      " 3MK7\t0.05\t192.6\t0.2833\t0.00\t 1.09\t\n",
      " 2MK5\t0.04\t84.0\t0.2028\t0.00\t 0.71\t\n",
      "solve: matrix prep ... solution ... done.\n",
      "Name\tAmp\tPhase\tFreq\tPE\tSNR\t\n",
      " M2\t7.82\t315.2\t0.0805\t82.10\t 4114.04\t\n",
      " S2\t2.76\t333.4\t0.0833\t10.24\t 512.95\t\n",
      " N2\t1.61\t288.8\t0.0790\t3.47\t 174.42\t\n",
      " MM\t0.86\t213.7\t0.0015\t1.00\t 22.86\t\n",
      " NO1\t0.63\t5.6\t0.0403\t0.53\t 30.91\t\n",
      " Q1\t0.58\t254.6\t0.0372\t0.45\t 25.73\t\n",
      " K1\t0.56\t326.3\t0.0418\t0.41\t 23.90\t\n",
      " MS4\t0.37\t155.8\t0.1638\t0.19\t 26.58\t\n",
      " M4\t0.36\t163.9\t0.1610\t0.17\t 24.61\t\n",
      " OO1\t0.32\t119.3\t0.0448\t0.14\t 8.12\t\n",
      " MSF\t0.31\t340.1\t0.0028\t0.13\t 2.94\t\n",
      " M3\t0.29\t326.1\t0.1208\t0.11\t 20.84\t\n",
      " MN4\t0.29\t174.3\t0.1595\t0.11\t 16.01\t\n",
      " O1\t0.29\t316.8\t0.0387\t0.11\t 6.45\t\n",
      " EPS2\t0.26\t288.2\t0.0762\t0.09\t 4.66\t\n",
      " 2SM6\t0.25\t176.1\t0.2472\t0.08\t 26.26\t\n",
      " ALP1\t0.24\t56.2\t0.0344\t0.08\t 4.56\t\n",
      " 2Q1\t0.23\t66.4\t0.0357\t0.07\t 3.97\t\n",
      " M8\t0.22\t331.6\t0.3220\t0.06\t 40.22\t\n",
      " 2MS6\t0.21\t89.2\t0.2444\t0.06\t 18.26\t\n",
      " J1\t0.19\t125.7\t0.0433\t0.05\t 2.83\t\n",
      " MK3\t0.17\t218.4\t0.1223\t0.04\t 6.87\t\n",
      " 2MK5\t0.17\t147.5\t0.2028\t0.04\t 12.09\t\n",
      " SN4\t0.17\t203.8\t0.1623\t0.04\t 5.24\t\n",
      " 2MN6\t0.16\t166.7\t0.2400\t0.04\t 11.61\t\n",
      " SK3\t0.15\t335.1\t0.1251\t0.03\t 5.79\t\n",
      " UPS1\t0.15\t264.0\t0.0463\t0.03\t 1.72\t\n",
      " ETA2\t0.15\t111.0\t0.0851\t0.03\t 1.49\t\n",
      " 2SK5\t0.15\t265.3\t0.2084\t0.03\t 9.48\t\n",
      " M6\t0.12\t43.0\t0.2415\t0.02\t 6.64\t\n",
      " L2\t0.12\t75.5\t0.0820\t0.02\t 0.90\t\n",
      " S4\t0.11\t222.2\t0.1667\t0.02\t 2.29\t\n",
      " MU2\t0.09\t346.3\t0.0777\t0.01\t 0.59\t\n",
      " 3MK7\t0.07\t134.6\t0.2833\t0.01\t 3.49\t\n",
      " MO3\t0.05\t97.9\t0.1192\t0.00\t 0.51\t\n",
      "solve: matrix prep ... solution ... done.\n",
      "Name\tAmp\tPhase\tFreq\tPE\tSNR\t\n",
      " K1\t7.27\t55.2\t0.0418\t32.37\t 275.53\t\n",
      " MM\t4.29\t24.5\t0.0015\t11.26\t 8.58\t\n",
      " S2\t4.14\t14.9\t0.0833\t10.48\t 81.73\t\n",
      " M2\t4.03\t315.4\t0.0805\t9.94\t 77.41\t\n",
      " NO1\t3.05\t112.9\t0.0403\t5.68\t 48.23\t\n",
      " MSF\t2.44\t299.1\t0.0028\t3.65\t 2.78\t\n",
      " SK3\t2.32\t319.1\t0.1251\t3.29\t 68.39\t\n",
      " J1\t2.15\t307.8\t0.0433\t2.82\t 24.00\t\n",
      " 2Q1\t1.97\t198.4\t0.0357\t2.37\t 20.16\t\n",
      " L2\t1.90\t211.9\t0.0820\t2.21\t 17.14\t\n",
      " UPS1\t1.82\t306.7\t0.0463\t2.03\t 17.28\t\n",
      " N2\t1.80\t271.2\t0.0790\t1.98\t 15.38\t\n",
      " Q1\t1.64\t45.6\t0.0372\t1.65\t 14.09\t\n",
      " EPS2\t1.53\t288.8\t0.0762\t1.44\t 11.19\t\n",
      " ETA2\t1.48\t331.0\t0.0851\t1.35\t 10.51\t\n",
      " O1\t1.19\t260.2\t0.0387\t0.86\t 7.37\t\n",
      " MK3\t1.14\t334.6\t0.1223\t0.80\t 16.64\t\n",
      " S4\t1.10\t296.8\t0.1667\t0.73\t 18.01\t\n",
      " 2SM6\t1.05\t177.5\t0.2472\t0.67\t 30.34\t\n",
      " MN4\t1.00\t253.2\t0.1595\t0.62\t 15.09\t\n",
      " MU2\t0.89\t300.4\t0.0777\t0.49\t 3.81\t\n",
      " ALP1\t0.86\t230.2\t0.0344\t0.45\t 3.83\t\n",
      " MO3\t0.85\t170.1\t0.1192\t0.44\t 9.25\t\n",
      " M3\t0.83\t84.4\t0.1208\t0.42\t 8.74\t\n",
      " 2MS6\t0.79\t182.7\t0.2444\t0.38\t 17.10\t\n",
      " M6\t0.78\t155.8\t0.2415\t0.37\t 16.66\t\n",
      " MS4\t0.74\t234.8\t0.1638\t0.34\t 8.26\t\n",
      " M4\t0.67\t332.2\t0.1610\t0.28\t 6.81\t\n",
      " 2MN6\t0.57\t167.3\t0.2400\t0.20\t 9.05\t\n",
      " 3MK7\t0.46\t52.1\t0.2833\t0.13\t 6.34\t\n",
      " SN4\t0.42\t296.0\t0.1623\t0.11\t 2.65\t\n",
      " M8\t0.33\t125.8\t0.3220\t0.07\t 4.03\t\n",
      " OO1\t0.29\t238.4\t0.0448\t0.05\t 0.44\t\n",
      " 2MK5\t0.24\t74.5\t0.2028\t0.04\t 1.24\t\n",
      " 2SK5\t0.20\t172.1\t0.2084\t0.02\t 0.85\t\n"
     ]
    }
   ],
   "source": [
    "dfu = pd.read_csv('../data/ul-boia-completo.csv', delimiter=';')\n",
    "dfv = pd.read_csv('../data/ul-boia-completo.csv', delimiter=';')\n",
    "\n",
    "\n",
    "time = dfu.time.iloc[:3000]\n",
    "time = pd.to_datetime(time)\n",
    "\n",
    "# ruido branco\n",
    "n = len(time) # comprimento\n",
    "amp = 0.001 # amplitude\n",
    "phase = np.pi/4 # fase em radianos\n",
    "t = 1500 # T horas\n",
    "t2 = 1800 # T horas\n",
    "\n",
    "#add ruido no dado\n",
    "white_noise = [amp + np.sin((i*np.pi/2)/t) for i in range(n)]\n",
    "white_noise2 = [amp + np.sin((i*np.pi/2)/t2 + phase) for i in range(n)]\n",
    "white_noise = np.array(white_noise)\n",
    "white_noise2 = np.array(white_noise2)\n",
    "\n",
    "# peformando a análise harmonica\n",
    "for depth in [1, 10, 19]:    \n",
    "    \n",
    "    uvec = dfu.iloc[:3000, depth]\n",
    "    vvec = dfv.iloc[:3000, depth]\n",
    "    uvec = uvec-np.nanmean(uvec)\n",
    "    vvec = vvec-np.nanmean(vvec)\n",
    "    \n",
    "    uvec.interpolate(method='linear', limit=12, inplace=True)\n",
    "    vvec.interpolate(method='linear', limit=12, inplace=True)\n",
    "    \n",
    "    uvec, vvec = add_noise(uvec, noise=white_noise), add_noise(vvec, noise=white_noise2)\n",
    "    complex_vec = uvec + vvec*1j\n",
    "    \n",
    "    T_tide(time, complex_vec)"
   ]
  },
  {
   "cell_type": "markdown",
   "id": "6a04433e",
   "metadata": {},
   "source": [
    "#from utide import solve\n",
    "coef = solve(time, c,\n",
    "             lat=-3,\n",
    "             nodal=False,\n",
    "             trend=False,\n",
    "             method='robust',\n",
    "             conf_int='linear',\n",
    "             Rayleigh_min=0.95,)"
   ]
  },
  {
   "cell_type": "code",
   "execution_count": 36,
   "id": "9e9716f7",
   "metadata": {},
   "outputs": [
    {
     "data": {
      "text/plain": [
       "dict_keys(['name', 'aux', 'nR', 'nNR', 'nI', 'rf', 'weights', 'A', 'g', 'mean', 'g_ci', 'A_ci', 'diagn', 'PE', 'SNR'])"
      ]
     },
     "execution_count": 36,
     "metadata": {},
     "output_type": "execute_result"
    }
   ],
   "source": [
    "coef.keys()"
   ]
  }
 ],
 "metadata": {
  "kernelspec": {
   "display_name": "Python 3 (ipykernel)",
   "language": "python",
   "name": "python3"
  },
  "language_info": {
   "codemirror_mode": {
    "name": "ipython",
    "version": 3
   },
   "file_extension": ".py",
   "mimetype": "text/x-python",
   "name": "python",
   "nbconvert_exporter": "python",
   "pygments_lexer": "ipython3",
   "version": "3.8.10"
  }
 },
 "nbformat": 4,
 "nbformat_minor": 5
}
